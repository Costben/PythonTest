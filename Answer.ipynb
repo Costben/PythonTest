{
 "cells": [
  {
   "cell_type": "markdown",
   "metadata": {
    "colab_type": "text",
    "id": "1NDjN566ow3f"
   },
   "source": [
    "# FBA - Python Test 23-24\n",
    "\n",
    "* You have 2 hours to finish this test.\n",
    "* Please enter your answers into the spaces provided.\n",
    "* We recommend that you show comments in your code, to evidence your working if possible (comments may earn some credits even if your script code is not 100% correct).\n",
    "* In this test you will not be marked on elegance or efficiency, but rather getting the correct result in the instructed manner.\n",
    "* Partial answers can still gain some marks, so please move onto the next question if you get stuck.\n",
    "* As a guideline, section 6 is roughly halfway through the test."
   ]
  },
  {
   "cell_type": "markdown",
   "metadata": {
    "colab_type": "text",
    "id": "Nbm38bGUJla6"
   },
   "source": [
    "### Your Name\n",
    "Please print out your full name and student ID in the box below"
   ]
  },
  {
   "cell_type": "code",
   "execution_count": 1,
   "metadata": {
    "colab": {},
    "colab_type": "code",
    "id": "2nWWSZB_Jla8"
   },
   "outputs": [],
   "source": [
    "#print out your full name here\n",
    "print(\"\")#自己写一下，我不知道这俩\n",
    "#print out your student ID here\n",
    "print(\"\")#自己写一下，我不知道这俩"
   ]
  },
  {
   "cell_type": "markdown",
   "metadata": {
    "colab_type": "text",
    "id": "M5wZwqgwow3j"
   },
   "source": [
    "## Section 1 - Variables, Types & Casting\n",
    "\n",
    "### Q1.1: Variable assignment (1 mark)\n",
    "\n",
    "Assign your own student ID to a variable `ID` using the `input` function. \n"
   ]
  },
  {
   "cell_type": "code",
   "execution_count": 1,
   "metadata": {
    "colab": {},
    "colab_type": "code",
    "id": "GvIex29Low3l",
    "outputId": "f7ea3fb2-e31d-4c1f-deb1-aeff97db0c65"
   },
   "outputs": [
    {
     "name": "stdout",
     "output_type": "stream",
     "text": [
      "Enter your own student ID:123456\n",
      "123456\n"
     ]
    }
   ],
   "source": [
    "#enter your answer here\n",
    "ID = input(\"Enter your own student ID:\")\n",
    "#assign your own student ID as an integer to a variable **ID**\n",
    "print(int(ID))\n"
   ]
  },
  {
   "cell_type": "markdown",
   "metadata": {
    "colab_type": "text",
    "id": "t4sH7gqCow3v"
   },
   "source": [
    "### Q1.2: Data Types & Casting  (3 marks)\n",
    "\n",
    "- Assign your height as a float to a variable `height` using the input function.\n",
    "- Assign your weight as a float to a variable `weight` using the input function.\n",
    "- Assign your name as a string to a variable `name` using the input function.\n",
    "- Calculate your BMI using the values of `height` and `weight`, and assign it to a new variable `bmi`.\n",
    "- Print your name and your BMI together in the following format: \"[Your Name]'s BMI equals [Your BMI]\", e.g., \"John's BMI is 24.7\".\n",
    "\n",
    "Note:  \n",
    "BMI is calculated as **weight / (height * height)**. </b>  \n",
    "You don't need to provide your real height and weight. You may create some fictional numbers."
   ]
  },
  {
   "cell_type": "code",
   "execution_count": 3,
   "metadata": {
    "colab": {},
    "colab_type": "code",
    "id": "NlS0mJhmow3w"
   },
   "outputs": [
    {
     "name": "stdout",
     "output_type": "stream",
     "text": [
      "Enter your height in meters:1.8\n",
      "Enter your weight in kilograms:80\n",
      "Enter your name:john\n",
      "john 's BMI equals  24.691358024691358\n"
     ]
    }
   ],
   "source": [
    "#enter your answer here\n",
    "height = float(input(\"Enter your height in meters:\"))\n",
    "weight = float(input(\"Enter your weight in kilograms:\"))\n",
    "name = input(\"Enter your name:\")\n",
    "bmi = weight / (height * height)\n",
    "print(name,\"'s BMI equals \",bmi)"
   ]
  },
  {
   "cell_type": "markdown",
   "metadata": {
    "colab_type": "text",
    "id": "L9MC_cVeow31"
   },
   "source": [
    "## Section 2 - Loops & Conditionals\n",
    "\n",
    "In this section, you are required to write a program that prints a pattern of caret (`^`) in the shape of an isosceles trapezoid (\"等腰梯形\" in Chinese). The isosceles trapezoid has the following dimensions:\n",
    "\n",
    "- Lower Base: 8\n",
    "- Upper Base: 4\n",
    "- Height: 3\n",
    "\n",
    "#### Example Output\n",
    "\n",
    "Your program should produce patterns similar to the following:  \n",
    "&ensp;&nbsp; ^^^^  \n",
    "&nbsp; ^^^^^^  \n",
    "^^^^^^^^  \n",
    "\n",
    "**Note**: The first line of `^` should begin with two spaces, the second line of `^` should start with one space, and the third line of `^` starts with no space.\n",
    "\n",
    "Please complete this task with the following functions:\n",
    "\n",
    "### Q2.1: Using a `for loop` and the` range()` function - Option 1 (3 marks)"
   ]
  },
  {
   "cell_type": "code",
   "execution_count": 6,
   "metadata": {
    "colab": {},
    "colab_type": "code",
    "id": "or1fhGSsow32",
    "outputId": "127d63ac-bbcf-4305-872b-e3433007338b"
   },
   "outputs": [
    {
     "name": "stdout",
     "output_type": "stream",
     "text": [
      "  ^^^^\n",
      " ^^^^^^\n",
      "^^^^^^^^\n"
     ]
    }
   ],
   "source": [
    "#enter your answer here\n",
    "for i in range(0,3):\n",
    "    print(\" \"*(2-i)+\"^\"*(4+i*2))"
   ]
  },
  {
   "cell_type": "markdown",
   "metadata": {
    "colab_type": "text",
    "id": "HeZuOUQ1ow37"
   },
   "source": [
    "### Q2.2: Using a `while` loop - Option 2 (3 marks)\n",
    "\n",
    "This time we want to use a `while loop` with a `counter`. The condition of your while loop should depend on a variable you create to count where you are in the loop."
   ]
  },
  {
   "cell_type": "code",
   "execution_count": 9,
   "metadata": {
    "colab": {},
    "colab_type": "code",
    "id": "3GRUr9oOow3-",
    "outputId": "3314e4f5-537e-472d-bdd7-c86f9f321af6"
   },
   "outputs": [
    {
     "name": "stdout",
     "output_type": "stream",
     "text": [
      "  ^^^^\n",
      " ^^^^^^\n",
      "^^^^^^^^\n"
     ]
    }
   ],
   "source": [
    "#enter your answer here\n",
    "i = 0\n",
    "while i < 3:\n",
    "    print(\" \"*(2-i)+\"^\"*(4+i*2))\n",
    "    i+=1"
   ]
  },
  {
   "cell_type": "markdown",
   "metadata": {
    "colab_type": "text",
    "id": "gmUIkpwDow4C"
   },
   "source": [
    "### Q2.3: Using a `while True` loop - Option 3 (3 marks)\n",
    "\n",
    "This time we want to use a `counter` and `while True` loop. You must exit the loop using  the `continue` or `break` statement (n.b. only one of these two commands will do what you want), and any other commands that you think useful."
   ]
  },
  {
   "cell_type": "code",
   "execution_count": 10,
   "metadata": {
    "colab": {},
    "colab_type": "code",
    "id": "Zt29Xrmrow4E",
    "outputId": "aeae70bd-093a-4809-cd79-27726d9e0424"
   },
   "outputs": [
    {
     "name": "stdout",
     "output_type": "stream",
     "text": [
      "  ^^^^\n",
      " ^^^^^^\n",
      "^^^^^^^^\n"
     ]
    }
   ],
   "source": [
    "#enter your answer here\n",
    "i = 0\n",
    "while True:\n",
    "    print(\" \"*(2-i)+\"^\"*(4+i*2))\n",
    "    if i<2:\n",
    "        i+=1\n",
    "        continue\n",
    "    else:\n",
    "        break"
   ]
  },
  {
   "cell_type": "markdown",
   "metadata": {
    "colab_type": "text",
    "id": "Dw1O1EAHow4J"
   },
   "source": [
    "# Section 3 - If statements"
   ]
  },
  {
   "cell_type": "markdown",
   "metadata": {
    "colab_type": "text",
    "id": "1DHDtaGlow4Q"
   },
   "source": [
    "### Q3.1: if and else statements (3 marks)\n",
    "\n",
    "Given the a variable `password` which takes password settings from the users, write a program to check if the password set by the user meets the security requirements:\n",
    "\n",
    "- The length of the password must be longer than 5 characters. If it is shorter than or equal to 5 characters, print: **\"The password must be longer than 5 characters.\"**\n",
    "- If the password meets the secuirty requirements, i.e., the length of the password is longer than 6 and does not start with \"12345\" or \"qwert\", print: **\"You have successfully set up your password\".**\n",
    "\n",
    "Remember that you have to use **if** and **else** in this question."
   ]
  },
  {
   "cell_type": "code",
   "execution_count": 18,
   "metadata": {
    "colab": {},
    "colab_type": "code",
    "id": "ALdw95zsow4S"
   },
   "outputs": [
    {
     "name": "stdout",
     "output_type": "stream",
     "text": [
      "qwerty\n",
      "You have successfully set up your password.\n"
     ]
    }
   ],
   "source": [
    "password = input()    # You can change the value of password to cover the different cases and test your code\n",
    "#enter your answer here\n",
    "import re\n",
    "if len(password) <= 5:\n",
    "    print(\"The password must be longer than 5 characters.\")\n",
    "elif re.match(r\"12345\",password) == None or re.match(r\"qwerty\",password) == None:\n",
    "    print(\"You have successfully set up your password.\")\n",
    "else:\n",
    "    print(\"The password does not start with 12345 or qwert.\")"
   ]
  },
  {
   "cell_type": "markdown",
   "metadata": {
    "colab_type": "text",
    "id": "vBn_VoWbow4K"
   },
   "source": [
    "### Q3.2: Using if, elif and else (3 marks)\n",
    "Add an extra condition in the program above such that it will check if the password is on a list of common or easily guessable passords. \n",
    "\n",
    "The passwords in the list of common passwords include: `\"letmein\", \"password\", \"12345\", \"qwerty\"`\n",
    "\n",
    "If the password is in the list, print: \"Your password is too simple.\""
   ]
  },
  {
   "cell_type": "code",
   "execution_count": 1,
   "metadata": {
    "colab": {},
    "colab_type": "code",
    "id": "rsuS8WSTow4L"
   },
   "outputs": [
    {
     "name": "stdout",
     "output_type": "stream",
     "text": [
      "letmein\n",
      "Your password is too simple.\n"
     ]
    }
   ],
   "source": [
    "password = input()    # You can change the value of password to cover the different cases and test your code\n",
    "\n",
    "#enter your answer here\n",
    "import re\n",
    "if len(password) <= 5:\n",
    "    print(\"The password must be longer than 5 characters.\")\n",
    "elif re.search(\"letmein\",password) != None or re.search(\"password\",password) != None or re.search(\"12345\",password) != None or re.search(\"qwerty\",password) != None:\n",
    "    print(\"Your password is too simple.\")\n",
    "else:\n",
    "    print(\"You have successfully set up your password.\")"
   ]
  },
  {
   "cell_type": "markdown",
   "metadata": {
    "colab_type": "text",
    "id": "TEjNdPL6ow4W"
   },
   "source": [
    "### Q3.3: Nested conditionals (5 marks)\n",
    "Finally, please use `nested if` statements to specify the security requirements for password:\n",
    "    \n",
    "- If the password shorter than or equal to 5 characters, \n",
    "    - Print: **\"The password must be longer than 5 characters.\"**\n",
    "- If the password longer than 5 characters: \n",
    "    - And if it is not a combination of characters and numbers, print: **\"Your password should be a combination of characters and numbers.\"**\n",
    "    - And if it is a combination of characters and numbers, print: **\"You have successfully set up your password\".** \n",
    "    "
   ]
  },
  {
   "cell_type": "code",
   "execution_count": 6,
   "metadata": {
    "colab": {},
    "colab_type": "code",
    "id": "J36tV2V-ow4X"
   },
   "outputs": [
    {
     "name": "stdout",
     "output_type": "stream",
     "text": [
      "123456\n",
      "Your password should be a combination of characters and numbers.\n"
     ]
    }
   ],
   "source": [
    "password = input()    # You can change the value of password to cover the different cases and test your code\n",
    "#enter your answer here\n",
    "pattern = r\"^(?=.*[a-zA-Z])(?=.*\\d).+$\"\n",
    "if len(password) <= 5:\n",
    "    print(\"The password must be longer than 5 characters.\")\n",
    "elif re.match(pattern, password):\n",
    "    print(\"You have successfully set up your password.\")\n",
    "else:\n",
    "    print(\"Your password should be a combination of characters and numbers.\")"
   ]
  },
  {
   "cell_type": "markdown",
   "metadata": {
    "colab_type": "text",
    "id": "GEwFA8uUow4b"
   },
   "source": [
    "# Section 4 - Data Structures"
   ]
  },
  {
   "cell_type": "markdown",
   "metadata": {
    "colab_type": "text",
    "id": "JqQlIjG2ow4e"
   },
   "source": [
    "### Q4.1: List creation (3 marks)\n",
    "\n",
    "Create a 2 level list `ls` from a given string `s` = \"apple,banana,cherry,durian\".The first list of `ls` should contain the first two items of `s` and the second list should contain the last two items of `s`. Print out the final list."
   ]
  },
  {
   "cell_type": "code",
   "execution_count": 7,
   "metadata": {
    "colab": {},
    "colab_type": "code",
    "id": "Y3kkwfJaow4f"
   },
   "outputs": [
    {
     "name": "stdout",
     "output_type": "stream",
     "text": [
      "[['apple', 'banana'], ['cherry', 'durian']]\n"
     ]
    }
   ],
   "source": [
    "s = \"apple,banana,cherry,durian\" #generate ls based on s\n",
    "#enter your answer here\n",
    "items = s.split(',')\n",
    "ls = [items[:2], items[2:]]\n",
    "print(ls)"
   ]
  },
  {
   "cell_type": "markdown",
   "metadata": {
    "colab_type": "text",
    "id": "W9iVsoKtow4o"
   },
   "source": [
    "### Q4.2: List modification with index (2 marks)\n",
    "\n",
    "Given a new list `list_new` which contains two fruits `[\"pear\", \"lemon\", \"grape\"]`, update the original list `ls` and change the first list of `ls` to be the first two items of `list_new` (i.e., replace ['apple', 'banana'] by [\"pear\", \"lemon\"]), and update the last element of the second list of `ls` to 'pear' to the second item of `list_new` (i.e., replace \"durian\" by \"grape\"). The updated `list_new` should be `[[\"pear\", \"lemon\"], ['cherry', 'grape']]`, and then print it out. "
   ]
  },
  {
   "cell_type": "code",
   "execution_count": 8,
   "metadata": {
    "colab": {},
    "colab_type": "code",
    "id": "3O6vedNBow4q",
    "outputId": "68a64be2-27f9-43eb-f348-b1b428ddb9d6"
   },
   "outputs": [
    {
     "name": "stdout",
     "output_type": "stream",
     "text": [
      "[['pear', 'lemon'], ['cherry', 'grape']]\n"
     ]
    }
   ],
   "source": [
    "ls = [['apple', 'banana'], ['cherry', 'durian']]\n",
    "list_new = [\"pear\", \"lemon\", \"grape\"]\n",
    "\n",
    "#enter your answer here\n",
    "ls[0] = list_new[:2]  \n",
    "ls[1][-1] = list_new[2] \n",
    "\n",
    "print(ls)  # the final output should be [['pear', 'lemon'], ['cherry', 'grape']]"
   ]
  },
  {
   "cell_type": "markdown",
   "metadata": {
    "colab_type": "text",
    "id": "CJJTjQW8ow4x"
   },
   "source": [
    "### Q4.3: Insert values to list (2 marks)\n",
    "\n",
    "Based on the updated list `[[ 'pear', 'lemon'], ['cherry', 'grape']]`, insert a new list `['apple', 'banana']` between the original `[ 'pear', 'lemon']` and `['cherry', 'grape']`, so that the final list becomes `[[ 'pear', 'lemon'], ['apple', 'banana'], ['cherry', 'grape']]`."
   ]
  },
  {
   "cell_type": "code",
   "execution_count": 10,
   "metadata": {
    "colab": {},
    "colab_type": "code",
    "id": "azHLj_dqow4y",
    "outputId": "9430de37-5702-402e-e09d-1254d22742d1"
   },
   "outputs": [
    {
     "name": "stdout",
     "output_type": "stream",
     "text": [
      "[['pear', 'lemon'], ['apple', 'banana'], ['cherry', 'grape']]\n"
     ]
    }
   ],
   "source": [
    "# Use the variable below to compelete this task if you fail to create new_array in the previous question\n",
    "# ls = [['pear', 'lemon'], ['cherry', 'grape']] \n",
    "\n",
    "#enter your answer here\n",
    "ls = [['pear', 'lemon'], ['cherry', 'grape']]\n",
    "ls.insert(1, ['apple', 'banana'])\n",
    "\n",
    "print(ls) # the final output should be [['pear', 'lemon'], ['apple', 'banana'], ['cherry', 'grape']]"
   ]
  },
  {
   "cell_type": "markdown",
   "metadata": {
    "colab_type": "text",
    "id": "8lLZ0FWbow43"
   },
   "source": [
    "### Q4.4: Dictionary creation (3 marks)\n",
    "\n",
    "Given two lists `names` and `birthdays`, create a dictionary `student_info` where the keys are the names from the `names` list and the values are the corresponding birthdays from the `birthdays` list. The final dictionary should look like this:\n",
    "\n",
    "{\n",
    "    \"John\": \"01/01/2000\",\n",
    "    \"Jane\": \"02/14/2001\",\n",
    "    \"Jim\": \"03/15/1999\",\n",
    "    \"Joan\": \"04/10/1998\"\n",
    "}\n"
   ]
  },
  {
   "cell_type": "code",
   "execution_count": 11,
   "metadata": {
    "colab": {},
    "colab_type": "code",
    "id": "Bh70t63sow45"
   },
   "outputs": [
    {
     "name": "stdout",
     "output_type": "stream",
     "text": [
      "{'John': '01/01/2000', 'Jane': '02/14/2001', 'Jim': '03/15/1999', 'Joan': '04/10/1998'}\n"
     ]
    }
   ],
   "source": [
    "names = [\"John\", \"Jane\", \"Jim\", \"Joan\"]\n",
    "birthdays = [\"01/01/2000\", \"02/14/2001\", \"03/15/1999\", \"04/10/1998\"]\n",
    "\n",
    "#enter your answer here\n",
    "student_info = dict(zip(names, birthdays))\n",
    "print(student_info)"
   ]
  },
  {
   "cell_type": "markdown",
   "metadata": {},
   "source": [
    "### Q4.5: Iterate through dictionary  (5 marks)\n",
    "\n",
    "Create a new dictionary `student_age` which contains the names and ages of the students in `student_info`. The age should be calculated based on the `current_year` and the birth date stored in `student_info`. \n",
    "\n",
    "Note:   \n",
    "Assume the `current_year` is 2023.  \n",
    "No need to consider the date of birth when calculating age. You may simply calculate age as the difference between birth year and current year. For example, a person born in 2000 should be 23 in 2023. "
   ]
  },
  {
   "cell_type": "code",
   "execution_count": 12,
   "metadata": {},
   "outputs": [
    {
     "name": "stdout",
     "output_type": "stream",
     "text": [
      "{'John': 23, 'Jane': 22, 'Jim': 24, 'Joan': 25}\n"
     ]
    }
   ],
   "source": [
    "student_info = {'John': '01/01/2000', 'Jane': '02/14/2001', 'Jim': '03/15/1999', 'Joan': '04/10/1998'}\n",
    "\n",
    "#enter your answer here\n",
    "current_year = 2023\n",
    "student_age = {name: current_year - int(birthday.split(\"/\")[-1]) for name, birthday in student_info.items()}\n",
    "\n",
    "print(student_age) #the output should be {'John': 23, 'Jane': 22, 'Jim': 24, 'Joan': 25}"
   ]
  },
  {
   "cell_type": "markdown",
   "metadata": {},
   "source": [
    "### Q4.6: Generate statistics from dictionary (5 marks)\n",
    "\n",
    "Based on the ages in `student_age`, find out the maximal, minimal, and average ages of students.\n",
    "\n",
    "Note: Do not use the `max()` and `min()` function."
   ]
  },
  {
   "cell_type": "code",
   "execution_count": 13,
   "metadata": {},
   "outputs": [
    {
     "name": "stdout",
     "output_type": "stream",
     "text": [
      "Maximal age: 25\n",
      "Minimal age: 22\n",
      "Average age: 23.5\n"
     ]
    }
   ],
   "source": [
    "student_age = {'John': 23, 'Jane': 22, 'Jim': 24, 'Joan': 25}\n",
    "\n",
    "# write your code here\n",
    "max_age = student_age[next(iter(student_age))]  # Initialize max_age with the first value\n",
    "for age in student_age.values():\n",
    "    if age > max_age:\n",
    "        max_age = age\n",
    "\n",
    "min_age = student_age[next(iter(student_age))]  # Initialize min_age with the first value\n",
    "for age in student_age.values():\n",
    "    if age < min_age:\n",
    "        min_age = age\n",
    "\n",
    "total_age = sum(student_age.values())\n",
    "average_age = total_age / len(student_age)\n",
    "\n",
    "print(\"Maximal age:\", max_age)\n",
    "print(\"Minimal age:\", min_age)\n",
    "print(\"Average age:\", average_age)\n",
    "\n",
    "\n"
   ]
  },
  {
   "cell_type": "markdown",
   "metadata": {
    "colab_type": "text",
    "id": "swjimVhhow5f"
   },
   "source": [
    "# Section 5 - Functions\n",
    "\n",
    "### Q5.1:  Function definition (3 marks)\n",
    "\n",
    "Define a Python function `calculate_remainder` that calculates and returns the remainder of a division operation. The function should accept two numeric arguments: the `dividend` (the number to be divided) and the `divisor` (the number by which the division is performed).\n",
    "\n",
    "For example, when the dividend is 7, and the divisor is 5. The `calculate_remainder` function should return the remainder of this division, which is 2."
   ]
  },
  {
   "cell_type": "code",
   "execution_count": 14,
   "metadata": {
    "colab": {},
    "colab_type": "code",
    "id": "_p0R6lC4ow5g",
    "scrolled": true
   },
   "outputs": [
    {
     "name": "stdout",
     "output_type": "stream",
     "text": [
      "Remainder: 2\n"
     ]
    }
   ],
   "source": [
    "#enter your answers here\n",
    "def calculate_remainder(dividend, divisor):\n",
    "    return dividend % divisor\n",
    "\n",
    "result = calculate_remainder(7, 5)\n",
    "print('Remainder:',result)  \n"
   ]
  },
  {
   "cell_type": "markdown",
   "metadata": {
    "colab_type": "text",
    "id": "SiIbmD-Low5p"
   },
   "source": [
    "### Q5.2: Manipulating list with function (4 marks)\n",
    "\n",
    "Define a function `divisible_by_three` that takes a list of numbers as an argument and returns a new list containing only the numbers that are divisible by 3. The numbers in the new list should be sorted in ascending order. If the input list does not contain any numbers divisible by 3, the function should return an empty list."
   ]
  },
  {
   "cell_type": "code",
   "execution_count": 17,
   "metadata": {
    "colab": {},
    "colab_type": "code",
    "id": "XiJYH1zzow5r",
    "outputId": "408e79be-f073-433f-a3c9-87c2d76a39b1"
   },
   "outputs": [
    {
     "name": "stdout",
     "output_type": "stream",
     "text": [
      "[3, 6, 9, 21, 27]\n"
     ]
    }
   ],
   "source": [
    "numbers = [1, 3, 2, 10, 8, 6, 9, 22, 23, 21, 27] # You may try different values to test your code\n",
    "\n",
    "#enter your answer here\n",
    "def divisible_by_three(input_list):\n",
    "    result_list = [num for num in input_list if num % 3 == 0]\n",
    "    result_list.sort()\n",
    "    return result_list\n",
    "result = divisible_by_three(numbers)\n",
    "print(result)\n"
   ]
  },
  {
   "cell_type": "markdown",
   "metadata": {},
   "source": [
    "### Q5.3: Check anagrams  (5 marks)\n",
    "\n",
    "Define a function `is_anagram` that checks whether two given strings are anagrams of each other. Anagrams are words or phrases formed by rearranging the letters of another word or phrase, using all the original letters exactly once. The `is_anagram` function should take two strings as input and return `True` if they are anagrams of each other and `False` otherwise.\n",
    "\n",
    "##### Examples\n",
    "Consider the following pairs of strings:\n",
    "\n",
    "String 1: \"listen\"  \n",
    "String 2: \"silent\"  \n",
    "These two strings are anagrams of each other because they have the same set of characters rearranged differently. When you rearrange the letters of \"listen,\" you get \"silent,\" and vice versa.\n",
    "\n",
    "String 1: \"triangle\"  \n",
    "String 2: \"integral\"  \n",
    "These strings are also anagrams because you can rearrange the letters to form the other word.\n",
    "\n",
    "String 1: \"hello\"   \n",
    "String 2: \"world\"  \n",
    "These strings are not anagrams because they have different sets of characters.\n",
    "\n",
    "**Note**: To sort the characters in strings, you may use the `sorted()` function."
   ]
  },
  {
   "cell_type": "code",
   "execution_count": 18,
   "metadata": {},
   "outputs": [
    {
     "name": "stdout",
     "output_type": "stream",
     "text": [
      "True\n",
      "True\n",
      "False\n"
     ]
    }
   ],
   "source": [
    "#enter your answers here\n",
    "\n",
    "def is_anagram(str1, str2):\n",
    "    str1 = str1.replace(' ', '').lower()\n",
    "    str2 = str2.replace(' ', '').lower()\n",
    "    \n",
    "    sorted_str1 = sorted(str1)\n",
    "    sorted_str2 = sorted(str2)\n",
    "    return sorted_str1 == sorted_str2\n",
    "\n",
    "#test your answer using the following function calls\n",
    "print(is_anagram(\"listen\", \"silent\"))  # True\n",
    "print(is_anagram(\"triangle\", \"integral\"))  # True\n",
    "print(is_anagram(\"hello\", \"world\"))  # False"
   ]
  },
  {
   "cell_type": "markdown",
   "metadata": {
    "colab_type": "text",
    "id": "q87rKV1zow5v"
   },
   "source": [
    "# Section 6 - Numpy\n",
    "\n",
    "### Q6.1: Importing Numpy (1 mark)\n",
    "\n",
    "Import the module Numpy with the usual shortcut name **np**"
   ]
  },
  {
   "cell_type": "code",
   "execution_count": 19,
   "metadata": {
    "colab": {},
    "colab_type": "code",
    "id": "61729pDfow5w"
   },
   "outputs": [],
   "source": [
    "import numpy as np"
   ]
  },
  {
   "cell_type": "markdown",
   "metadata": {
    "colab_type": "text",
    "id": "Au_yvpZLow5y"
   },
   "source": [
    "### Q6.2: Ndarray creation (1 mark)\n",
    "\n",
    "Create a 1D numpy array `arr` with integers from -9 to 0."
   ]
  },
  {
   "cell_type": "code",
   "execution_count": 20,
   "metadata": {
    "colab": {},
    "colab_type": "code",
    "id": "gbkOzLleow50"
   },
   "outputs": [
    {
     "name": "stdout",
     "output_type": "stream",
     "text": [
      "[-9 -8 -7 -6 -5 -4 -3 -2 -1  0]\n"
     ]
    }
   ],
   "source": [
    "#enter your answer here\n",
    "import numpy as np\n",
    "\n",
    "arr = np.arange(-9, 1)\n",
    "print(arr)\n"
   ]
  },
  {
   "cell_type": "markdown",
   "metadata": {},
   "source": [
    "### Q6.3: Ndarray shape (1 mark)\n",
    "\n",
    "Print the shape of `arr`."
   ]
  },
  {
   "cell_type": "code",
   "execution_count": 21,
   "metadata": {},
   "outputs": [
    {
     "name": "stdout",
     "output_type": "stream",
     "text": [
      "(10,)\n"
     ]
    }
   ],
   "source": [
    "#enter your answer here\n",
    "import numpy as np\n",
    "\n",
    "arr = np.arange(-9, 1)\n",
    "print(arr.shape)\n"
   ]
  },
  {
   "cell_type": "markdown",
   "metadata": {},
   "source": [
    "### Q6.4: Update array shape (1 mark)\n",
    "\n",
    "Change the shape of `arr` (currently (10,)) to (5,2) and assign it to a new array `new_arr`."
   ]
  },
  {
   "cell_type": "code",
   "execution_count": 22,
   "metadata": {},
   "outputs": [
    {
     "name": "stdout",
     "output_type": "stream",
     "text": [
      "[[-9 -8]\n",
      " [-7 -6]\n",
      " [-5 -4]\n",
      " [-3 -2]\n",
      " [-1  0]]\n"
     ]
    }
   ],
   "source": [
    "import numpy as np\n",
    "\n",
    "arr = np.arange(-9, 1)\n",
    "new_arr = arr.reshape(5, 2)\n",
    "print(new_arr)"
   ]
  },
  {
   "cell_type": "markdown",
   "metadata": {},
   "source": [
    "### Q6.5: Transpose array (2 marks)\n",
    "\n",
    "Transpose `new_arr`,swapping its rows and columns, and assign it to a new array `transpose_array`.\n",
    "\n",
    "The resulting array should be like this:  \n",
    "[[-9, -7, -5, -3, -1],  \n",
    "[-8, -6, -4, -2,  0]]"
   ]
  },
  {
   "cell_type": "code",
   "execution_count": 23,
   "metadata": {},
   "outputs": [
    {
     "name": "stdout",
     "output_type": "stream",
     "text": [
      "[[-9 -7 -5 -3 -1]\n",
      " [-8 -6 -4 -2  0]]\n"
     ]
    }
   ],
   "source": [
    "# Use the variable below to compelete this task if you fail to create new_array in the previous question\n",
    "# new_arr = np.array([[-9, -8], [-7, -6], [-5, -4], [-3, -2],[-1,  0]]) \n",
    "import numpy as np\n",
    "\n",
    "arr = np.arange(-9, 1)\n",
    "new_arr = arr.reshape(5, 2)\n",
    "transpose_array = new_arr.transpose()\n",
    "print(transpose_array)\n"
   ]
  },
  {
   "cell_type": "markdown",
   "metadata": {
    "colab_type": "text",
    "id": "UX_PoEvAow56"
   },
   "source": [
    "### Q6.6: Absolute values in array (2 marks)\n",
    "Modify the values in `transpose_array` that all the values are replaced with their absolute values. Assign the absolute values to a new array named \"absolute_array\".\n",
    "\n",
    "The resulting array should be something like:  \n",
    "[[9 7 5 3 1]  \n",
    " [8 6 4 2 0]]"
   ]
  },
  {
   "cell_type": "code",
   "execution_count": 24,
   "metadata": {
    "colab": {},
    "colab_type": "code",
    "id": "niHXM1ibow57",
    "outputId": "acdc92c4-97eb-4c52-fe6b-dabb7411a110"
   },
   "outputs": [
    {
     "name": "stdout",
     "output_type": "stream",
     "text": [
      "[[9 7 5 3 1]\n",
      " [8 6 4 2 0]]\n"
     ]
    }
   ],
   "source": [
    "# Use the variable below to compelete this task if you fail to create new_array in the previous question\n",
    "# transpose_array = np.array([[-9, -7, -5, -3, -1], [-8, -6, -4, -2,  0]]) \n",
    "\n",
    "#enter your answer here\n",
    "import numpy as np\n",
    "\n",
    "arr = np.arange(-9, 1)\n",
    "new_arr = arr.reshape(5, 2)\n",
    "transpose_array = new_arr.transpose()\n",
    "absolute_array = np.abs(transpose_array)\n",
    "\n",
    "# Print the modified array\n",
    "print(absolute_array)"
   ]
  },
  {
   "cell_type": "markdown",
   "metadata": {
    "colab_type": "text",
    "id": "EIsLZ030ow6E"
   },
   "source": [
    "# Section 7 - Reading a file manually\n",
    "\n",
    "### Q7.1: Reading the fist column (5 marks)\n",
    "\n",
    "In the current directory of this Jupyter Notebook, you are given a file `drinks.csv`.\n",
    "\n",
    "Using the standard Python functions (open(), read(), readlines(), write(), ...), read the **first** and **last** columns, i.e, the country column and the continent column, of the data file."
   ]
  },
  {
   "cell_type": "code",
   "execution_count": 25,
   "metadata": {
    "colab": {},
    "colab_type": "code",
    "id": "1BzImc2Xow6F",
    "outputId": "0a624275-dd4d-4f37-ea64-115cc69af7f6"
   },
   "outputs": [
    {
     "name": "stdout",
     "output_type": "stream",
     "text": [
      "First column (country): ['country', 'Afghanistan', 'Albania', 'Algeria', 'Andorra', 'Angola', 'Antigua & Barbuda', 'Argentina', 'Armenia', 'Australia', 'Austria', 'Azerbaijan', 'Bahamas', 'Bahrain', 'Bangladesh', 'Barbados', 'Belarus', 'Belgium', 'Belize', 'Benin', 'Bhutan', 'Bolivia', 'Bosnia-Herzegovina', 'Botswana', 'Brazil', 'Brunei', 'Bulgaria', 'Burkina Faso', 'Burundi', \"Cote d'Ivoire\", 'Cabo Verde', 'Cambodia', 'Cameroon', 'Canada', 'Central African Republic', 'Chad', 'Chile', 'China', 'Colombia', 'Comoros', 'Congo', 'Cook Islands', 'Costa Rica', 'Croatia', 'Cuba', 'Cyprus', 'Czech Republic', 'North Korea', 'DR Congo', 'Denmark', 'Djibouti', 'Dominica', 'Dominican Republic', 'Ecuador', 'Egypt', 'El Salvador', 'Equatorial Guinea', 'Eritrea', 'Estonia', 'Ethiopia', 'Fiji', 'Finland', 'France', 'Gabon', 'Gambia', 'Georgia', 'Germany', 'Ghana', 'Greece', 'Grenada', 'Guatemala', 'Guinea', 'Guinea-Bissau', 'Guyana', 'Haiti', 'Honduras', 'Hungary', 'Iceland', 'India', 'Indonesia', 'Iran', 'Iraq', 'Ireland', 'Israel', 'Italy', 'Jamaica', 'Japan', 'Jordan', 'Kazakhstan', 'Kenya', 'Kiribati', 'Kuwait', 'Kyrgyzstan', 'Laos', 'Latvia', 'Lebanon', 'Lesotho', 'Liberia', 'Libya', 'Lithuania', 'Luxembourg', 'Madagascar', 'Malawi', 'Malaysia', 'Maldives', 'Mali', 'Malta', 'Marshall Islands', 'Mauritania', 'Mauritius', 'Mexico', 'Micronesia', 'Monaco', 'Mongolia', 'Montenegro', 'Morocco', 'Mozambique', 'Myanmar', 'Namibia', 'Nauru', 'Nepal', 'Netherlands', 'New Zealand', 'Nicaragua', 'Niger', 'Nigeria', 'Niue', 'Norway', 'Oman', 'Pakistan', 'Palau', 'Panama', 'Papua New Guinea', 'Paraguay', 'Peru', 'Philippines', 'Poland', 'Portugal', 'Qatar', 'South Korea', 'Moldova', 'Romania', 'Russian Federation', 'Rwanda', 'St. Kitts & Nevis', 'St. Lucia', 'St. Vincent & the Grenadines', 'Samoa', 'San Marino', 'Sao Tome & Principe', 'Saudi Arabia', 'Senegal', 'Serbia', 'Seychelles', 'Sierra Leone', 'Singapore', 'Slovakia', 'Slovenia', 'Solomon Islands', 'Somalia', 'South Africa', 'Spain', 'Sri Lanka', 'Sudan', 'Suriname', 'Swaziland', 'Sweden', 'Switzerland', 'Syria', 'Tajikistan', 'Thailand', 'Macedonia', 'Timor-Leste', 'Togo', 'Tonga', 'Trinidad & Tobago', 'Tunisia', 'Turkey', 'Turkmenistan', 'Tuvalu', 'Uganda', 'Ukraine', 'United Arab Emirates', 'United Kingdom', 'Tanzania', 'USA', 'Uruguay', 'Uzbekistan', 'Vanuatu', 'Venezuela', 'Vietnam', 'Yemen', 'Zambia', 'Zimbabwe']\n",
      "Last column (continent): ['continent', 'AS', 'EU', 'AF', 'EU', 'AF', 'NA', 'SA', 'EU', 'OC', 'EU', 'EU', 'NA', 'AS', 'AS', 'NA', 'EU', 'EU', 'NA', 'AF', 'AS', 'SA', 'EU', 'AF', 'SA', 'AS', 'EU', 'AF', 'AF', 'AF', 'AF', 'AS', 'AF', 'NA', 'AF', 'AF', 'SA', 'AS', 'SA', 'AF', 'AF', 'OC', 'NA', 'EU', 'NA', 'EU', 'EU', 'AS', 'AF', 'EU', 'AF', 'NA', 'NA', 'SA', 'AF', 'NA', 'AF', 'AF', 'EU', 'AF', 'OC', 'EU', 'EU', 'AF', 'AF', 'EU', 'EU', 'AF', 'EU', 'NA', 'NA', 'AF', 'AF', 'SA', 'NA', 'NA', 'EU', 'EU', 'AS', 'AS', 'AS', 'AS', 'EU', 'AS', 'EU', 'NA', 'AS', 'AS', 'AS', 'AF', 'OC', 'AS', 'AS', 'AS', 'EU', 'AS', 'AF', 'AF', 'AF', 'EU', 'EU', 'AF', 'AF', 'AS', 'AS', 'AF', 'EU', 'OC', 'AF', 'AF', 'NA', 'OC', 'EU', 'AS', 'EU', 'AF', 'AF', 'AS', 'AF', 'OC', 'AS', 'EU', 'OC', 'NA', 'AF', 'AF', 'OC', 'EU', 'AS', 'AS', 'OC', 'NA', 'OC', 'SA', 'SA', 'AS', 'EU', 'EU', 'AS', 'AS', 'EU', 'EU', 'AS', 'AF', 'NA', 'NA', 'NA', 'OC', 'EU', 'AF', 'AS', 'AF', 'EU', 'AF', 'AF', 'AS', 'EU', 'EU', 'OC', 'AF', 'AF', 'EU', 'AS', 'AF', 'SA', 'AF', 'EU', 'EU', 'AS', 'AS', 'AS', 'EU', 'AS', 'AF', 'OC', 'NA', 'AF', 'AS', 'AS', 'OC', 'AF', 'EU', 'AS', 'EU', 'AF', 'NA', 'SA', 'AS', 'OC', 'SA', 'AS', 'AS', 'AF', 'AF']\n"
     ]
    }
   ],
   "source": [
    "#enter your answer here\n",
    "with open('drinks.csv', 'r') as file:\n",
    "    lines = file.readlines()\n",
    "\n",
    "first_column = [line.split(',')[0].strip() for line in lines]\n",
    "last_column = [line.split(',')[-1].strip() for line in lines]\n",
    "\n",
    "print(\"First column (country):\", first_column)\n",
    "print(\"Last column (continent):\", last_column)\n",
    "\n"
   ]
  },
  {
   "cell_type": "markdown",
   "metadata": {
    "colab_type": "text",
    "id": "Ht2TMkhkow6I"
   },
   "source": [
    "# Section 8 - Pandas\n",
    "\n",
    "This time we are going to use Pandas to load the `drinks.csv` file and explore it.\n",
    "\n",
    "### Q8.1: Loading the CSV file (1 mark)\n",
    "\n",
    "First of all, import the Pandas module! Using one of Pandas functions, load the data of the CSV file into a dataframe and assign it to a variable **df**"
   ]
  },
  {
   "cell_type": "code",
   "execution_count": 26,
   "metadata": {
    "colab": {},
    "colab_type": "code",
    "id": "Bf6KRMHcow6I"
   },
   "outputs": [
    {
     "name": "stdout",
     "output_type": "stream",
     "text": [
      "         country  beer_servings  spirit_servings  wine_servings  \\\n",
      "0    Afghanistan              0                0              0   \n",
      "1        Albania             89              132             54   \n",
      "2        Algeria             25                0             14   \n",
      "3        Andorra            245              138            312   \n",
      "4         Angola            217               57             45   \n",
      "..           ...            ...              ...            ...   \n",
      "188    Venezuela            333              100              3   \n",
      "189      Vietnam            111                2              1   \n",
      "190        Yemen              6                0              0   \n",
      "191       Zambia             32               19              4   \n",
      "192     Zimbabwe             64               18              4   \n",
      "\n",
      "     total_litres_of_pure_alcohol continent  \n",
      "0                             0.0        AS  \n",
      "1                             4.9        EU  \n",
      "2                             0.7        AF  \n",
      "3                            12.4        EU  \n",
      "4                             5.9        AF  \n",
      "..                            ...       ...  \n",
      "188                           7.7        SA  \n",
      "189                           2.0        AS  \n",
      "190                           0.1        AS  \n",
      "191                           2.5        AF  \n",
      "192                           4.7        AF  \n",
      "\n",
      "[193 rows x 6 columns]\n"
     ]
    }
   ],
   "source": [
    "#enter your answer here\n",
    "import pandas as pd\n",
    "\n",
    "df = pd.read_csv('drinks.csv')\n",
    "print(df)\n"
   ]
  },
  {
   "cell_type": "markdown",
   "metadata": {
    "colab_type": "text",
    "id": "6vPzs8Sxow6L"
   },
   "source": [
    "### Q8.2: Displaying the last 10 lines (1 mark)\n",
    "Display the last 10 lines of your dataframe"
   ]
  },
  {
   "cell_type": "code",
   "execution_count": 28,
   "metadata": {
    "colab": {},
    "colab_type": "code",
    "id": "MNlSIjWEow6M",
    "outputId": "602af3ef-f059-4509-d488-6139815b3dae",
    "scrolled": true
   },
   "outputs": [
    {
     "data": {
      "text/html": [
       "<div>\n",
       "<style scoped>\n",
       "    .dataframe tbody tr th:only-of-type {\n",
       "        vertical-align: middle;\n",
       "    }\n",
       "\n",
       "    .dataframe tbody tr th {\n",
       "        vertical-align: top;\n",
       "    }\n",
       "\n",
       "    .dataframe thead th {\n",
       "        text-align: right;\n",
       "    }\n",
       "</style>\n",
       "<table border=\"1\" class=\"dataframe\">\n",
       "  <thead>\n",
       "    <tr style=\"text-align: right;\">\n",
       "      <th></th>\n",
       "      <th>country</th>\n",
       "      <th>beer_servings</th>\n",
       "      <th>spirit_servings</th>\n",
       "      <th>wine_servings</th>\n",
       "      <th>total_litres_of_pure_alcohol</th>\n",
       "      <th>continent</th>\n",
       "    </tr>\n",
       "  </thead>\n",
       "  <tbody>\n",
       "    <tr>\n",
       "      <th>183</th>\n",
       "      <td>Tanzania</td>\n",
       "      <td>36</td>\n",
       "      <td>6</td>\n",
       "      <td>1</td>\n",
       "      <td>5.7</td>\n",
       "      <td>AF</td>\n",
       "    </tr>\n",
       "    <tr>\n",
       "      <th>184</th>\n",
       "      <td>USA</td>\n",
       "      <td>249</td>\n",
       "      <td>158</td>\n",
       "      <td>84</td>\n",
       "      <td>8.7</td>\n",
       "      <td>NaN</td>\n",
       "    </tr>\n",
       "    <tr>\n",
       "      <th>185</th>\n",
       "      <td>Uruguay</td>\n",
       "      <td>115</td>\n",
       "      <td>35</td>\n",
       "      <td>220</td>\n",
       "      <td>6.6</td>\n",
       "      <td>SA</td>\n",
       "    </tr>\n",
       "    <tr>\n",
       "      <th>186</th>\n",
       "      <td>Uzbekistan</td>\n",
       "      <td>25</td>\n",
       "      <td>101</td>\n",
       "      <td>8</td>\n",
       "      <td>2.4</td>\n",
       "      <td>AS</td>\n",
       "    </tr>\n",
       "    <tr>\n",
       "      <th>187</th>\n",
       "      <td>Vanuatu</td>\n",
       "      <td>21</td>\n",
       "      <td>18</td>\n",
       "      <td>11</td>\n",
       "      <td>0.9</td>\n",
       "      <td>OC</td>\n",
       "    </tr>\n",
       "    <tr>\n",
       "      <th>188</th>\n",
       "      <td>Venezuela</td>\n",
       "      <td>333</td>\n",
       "      <td>100</td>\n",
       "      <td>3</td>\n",
       "      <td>7.7</td>\n",
       "      <td>SA</td>\n",
       "    </tr>\n",
       "    <tr>\n",
       "      <th>189</th>\n",
       "      <td>Vietnam</td>\n",
       "      <td>111</td>\n",
       "      <td>2</td>\n",
       "      <td>1</td>\n",
       "      <td>2.0</td>\n",
       "      <td>AS</td>\n",
       "    </tr>\n",
       "    <tr>\n",
       "      <th>190</th>\n",
       "      <td>Yemen</td>\n",
       "      <td>6</td>\n",
       "      <td>0</td>\n",
       "      <td>0</td>\n",
       "      <td>0.1</td>\n",
       "      <td>AS</td>\n",
       "    </tr>\n",
       "    <tr>\n",
       "      <th>191</th>\n",
       "      <td>Zambia</td>\n",
       "      <td>32</td>\n",
       "      <td>19</td>\n",
       "      <td>4</td>\n",
       "      <td>2.5</td>\n",
       "      <td>AF</td>\n",
       "    </tr>\n",
       "    <tr>\n",
       "      <th>192</th>\n",
       "      <td>Zimbabwe</td>\n",
       "      <td>64</td>\n",
       "      <td>18</td>\n",
       "      <td>4</td>\n",
       "      <td>4.7</td>\n",
       "      <td>AF</td>\n",
       "    </tr>\n",
       "  </tbody>\n",
       "</table>\n",
       "</div>"
      ],
      "text/plain": [
       "        country  beer_servings  spirit_servings  wine_servings  \\\n",
       "183    Tanzania             36                6              1   \n",
       "184         USA            249              158             84   \n",
       "185     Uruguay            115               35            220   \n",
       "186  Uzbekistan             25              101              8   \n",
       "187     Vanuatu             21               18             11   \n",
       "188   Venezuela            333              100              3   \n",
       "189     Vietnam            111                2              1   \n",
       "190       Yemen              6                0              0   \n",
       "191      Zambia             32               19              4   \n",
       "192    Zimbabwe             64               18              4   \n",
       "\n",
       "     total_litres_of_pure_alcohol continent  \n",
       "183                           5.7        AF  \n",
       "184                           8.7       NaN  \n",
       "185                           6.6        SA  \n",
       "186                           2.4        AS  \n",
       "187                           0.9        OC  \n",
       "188                           7.7        SA  \n",
       "189                           2.0        AS  \n",
       "190                           0.1        AS  \n",
       "191                           2.5        AF  \n",
       "192                           4.7        AF  "
      ]
     },
     "execution_count": 28,
     "metadata": {},
     "output_type": "execute_result"
    }
   ],
   "source": [
    "#enter your answer here\n",
    "df.tail(10)"
   ]
  },
  {
   "cell_type": "markdown",
   "metadata": {
    "colab_type": "text",
    "id": "VKO_XSWeow6q"
   },
   "source": [
    "### Q8.3: Column creation (4 marks)\n",
    "Create two new columns `total_alcohol_consumption` and `average_alcohol_consumption` in `df` which is the **total** and **average** of the columns `beer_servings`, `spirit_servings`, `wine_servings`, and `total_litres_of_pure_alcohol`."
   ]
  },
  {
   "cell_type": "code",
   "execution_count": 29,
   "metadata": {
    "colab": {},
    "colab_type": "code",
    "id": "PWYzg9PFow6r",
    "outputId": "615317d4-2b0f-45ee-9aae-41a1724c80f3",
    "scrolled": true
   },
   "outputs": [
    {
     "data": {
      "text/html": [
       "<div>\n",
       "<style scoped>\n",
       "    .dataframe tbody tr th:only-of-type {\n",
       "        vertical-align: middle;\n",
       "    }\n",
       "\n",
       "    .dataframe tbody tr th {\n",
       "        vertical-align: top;\n",
       "    }\n",
       "\n",
       "    .dataframe thead th {\n",
       "        text-align: right;\n",
       "    }\n",
       "</style>\n",
       "<table border=\"1\" class=\"dataframe\">\n",
       "  <thead>\n",
       "    <tr style=\"text-align: right;\">\n",
       "      <th></th>\n",
       "      <th>country</th>\n",
       "      <th>beer_servings</th>\n",
       "      <th>spirit_servings</th>\n",
       "      <th>wine_servings</th>\n",
       "      <th>total_litres_of_pure_alcohol</th>\n",
       "      <th>continent</th>\n",
       "      <th>total_alcohol_consumption</th>\n",
       "      <th>average_alcohol_consumption</th>\n",
       "    </tr>\n",
       "  </thead>\n",
       "  <tbody>\n",
       "    <tr>\n",
       "      <th>0</th>\n",
       "      <td>Afghanistan</td>\n",
       "      <td>0</td>\n",
       "      <td>0</td>\n",
       "      <td>0</td>\n",
       "      <td>0.0</td>\n",
       "      <td>AS</td>\n",
       "      <td>0.0</td>\n",
       "      <td>0.000</td>\n",
       "    </tr>\n",
       "    <tr>\n",
       "      <th>1</th>\n",
       "      <td>Albania</td>\n",
       "      <td>89</td>\n",
       "      <td>132</td>\n",
       "      <td>54</td>\n",
       "      <td>4.9</td>\n",
       "      <td>EU</td>\n",
       "      <td>279.9</td>\n",
       "      <td>69.975</td>\n",
       "    </tr>\n",
       "    <tr>\n",
       "      <th>2</th>\n",
       "      <td>Algeria</td>\n",
       "      <td>25</td>\n",
       "      <td>0</td>\n",
       "      <td>14</td>\n",
       "      <td>0.7</td>\n",
       "      <td>AF</td>\n",
       "      <td>39.7</td>\n",
       "      <td>9.925</td>\n",
       "    </tr>\n",
       "    <tr>\n",
       "      <th>3</th>\n",
       "      <td>Andorra</td>\n",
       "      <td>245</td>\n",
       "      <td>138</td>\n",
       "      <td>312</td>\n",
       "      <td>12.4</td>\n",
       "      <td>EU</td>\n",
       "      <td>707.4</td>\n",
       "      <td>176.850</td>\n",
       "    </tr>\n",
       "    <tr>\n",
       "      <th>4</th>\n",
       "      <td>Angola</td>\n",
       "      <td>217</td>\n",
       "      <td>57</td>\n",
       "      <td>45</td>\n",
       "      <td>5.9</td>\n",
       "      <td>AF</td>\n",
       "      <td>324.9</td>\n",
       "      <td>81.225</td>\n",
       "    </tr>\n",
       "  </tbody>\n",
       "</table>\n",
       "</div>"
      ],
      "text/plain": [
       "       country  beer_servings  spirit_servings  wine_servings  \\\n",
       "0  Afghanistan              0                0              0   \n",
       "1      Albania             89              132             54   \n",
       "2      Algeria             25                0             14   \n",
       "3      Andorra            245              138            312   \n",
       "4       Angola            217               57             45   \n",
       "\n",
       "   total_litres_of_pure_alcohol continent  total_alcohol_consumption  \\\n",
       "0                           0.0        AS                        0.0   \n",
       "1                           4.9        EU                      279.9   \n",
       "2                           0.7        AF                       39.7   \n",
       "3                          12.4        EU                      707.4   \n",
       "4                           5.9        AF                      324.9   \n",
       "\n",
       "   average_alcohol_consumption  \n",
       "0                        0.000  \n",
       "1                       69.975  \n",
       "2                        9.925  \n",
       "3                      176.850  \n",
       "4                       81.225  "
      ]
     },
     "execution_count": 29,
     "metadata": {},
     "output_type": "execute_result"
    }
   ],
   "source": [
    "#enter your answer here\n",
    "import pandas as pd\n",
    "\n",
    "df = pd.read_csv('drinks.csv')\n",
    "\n",
    "df['total_alcohol_consumption'] = df['beer_servings'] + df['spirit_servings'] + df['wine_servings'] + df['total_litres_of_pure_alcohol']\n",
    "df['average_alcohol_consumption'] = df['total_alcohol_consumption'] / 4\n",
    "\n",
    "df.head()"
   ]
  },
  {
   "cell_type": "markdown",
   "metadata": {},
   "source": [
    "### Q8.4: Replace Values (3 marks)\n",
    "\n",
    "Replace the abbreviations of `continent` names by their full names, i.e., replace 'AF' by 'Africa', 'AS' by 'Asia', 'EU' by 'Europe', 'OC' by 'Oceania', 'SA' by 'South America' in the `continent` column."
   ]
  },
  {
   "cell_type": "code",
   "execution_count": 30,
   "metadata": {},
   "outputs": [
    {
     "data": {
      "text/html": [
       "<div>\n",
       "<style scoped>\n",
       "    .dataframe tbody tr th:only-of-type {\n",
       "        vertical-align: middle;\n",
       "    }\n",
       "\n",
       "    .dataframe tbody tr th {\n",
       "        vertical-align: top;\n",
       "    }\n",
       "\n",
       "    .dataframe thead th {\n",
       "        text-align: right;\n",
       "    }\n",
       "</style>\n",
       "<table border=\"1\" class=\"dataframe\">\n",
       "  <thead>\n",
       "    <tr style=\"text-align: right;\">\n",
       "      <th></th>\n",
       "      <th>country</th>\n",
       "      <th>beer_servings</th>\n",
       "      <th>spirit_servings</th>\n",
       "      <th>wine_servings</th>\n",
       "      <th>total_litres_of_pure_alcohol</th>\n",
       "      <th>continent</th>\n",
       "    </tr>\n",
       "  </thead>\n",
       "  <tbody>\n",
       "    <tr>\n",
       "      <th>0</th>\n",
       "      <td>Afghanistan</td>\n",
       "      <td>0</td>\n",
       "      <td>0</td>\n",
       "      <td>0</td>\n",
       "      <td>0.0</td>\n",
       "      <td>Asia</td>\n",
       "    </tr>\n",
       "    <tr>\n",
       "      <th>1</th>\n",
       "      <td>Albania</td>\n",
       "      <td>89</td>\n",
       "      <td>132</td>\n",
       "      <td>54</td>\n",
       "      <td>4.9</td>\n",
       "      <td>Europe</td>\n",
       "    </tr>\n",
       "    <tr>\n",
       "      <th>2</th>\n",
       "      <td>Algeria</td>\n",
       "      <td>25</td>\n",
       "      <td>0</td>\n",
       "      <td>14</td>\n",
       "      <td>0.7</td>\n",
       "      <td>Africa</td>\n",
       "    </tr>\n",
       "    <tr>\n",
       "      <th>3</th>\n",
       "      <td>Andorra</td>\n",
       "      <td>245</td>\n",
       "      <td>138</td>\n",
       "      <td>312</td>\n",
       "      <td>12.4</td>\n",
       "      <td>Europe</td>\n",
       "    </tr>\n",
       "    <tr>\n",
       "      <th>4</th>\n",
       "      <td>Angola</td>\n",
       "      <td>217</td>\n",
       "      <td>57</td>\n",
       "      <td>45</td>\n",
       "      <td>5.9</td>\n",
       "      <td>Africa</td>\n",
       "    </tr>\n",
       "  </tbody>\n",
       "</table>\n",
       "</div>"
      ],
      "text/plain": [
       "       country  beer_servings  spirit_servings  wine_servings  \\\n",
       "0  Afghanistan              0                0              0   \n",
       "1      Albania             89              132             54   \n",
       "2      Algeria             25                0             14   \n",
       "3      Andorra            245              138            312   \n",
       "4       Angola            217               57             45   \n",
       "\n",
       "   total_litres_of_pure_alcohol continent  \n",
       "0                           0.0      Asia  \n",
       "1                           4.9    Europe  \n",
       "2                           0.7    Africa  \n",
       "3                          12.4    Europe  \n",
       "4                           5.9    Africa  "
      ]
     },
     "execution_count": 30,
     "metadata": {},
     "output_type": "execute_result"
    }
   ],
   "source": [
    "#Write your code here\n",
    "import pandas as pd\n",
    "\n",
    "df = pd.read_csv('drinks.csv')\n",
    "df['continent'] = df['continent'].replace({'AF': 'Africa', 'AS': 'Asia', 'EU': 'Europe', 'OC': 'Oceania', 'SA': 'South America'})\n",
    "\n",
    "df.head()"
   ]
  },
  {
   "cell_type": "markdown",
   "metadata": {
    "colab_type": "text",
    "id": "nQWA45znow6m"
   },
   "source": [
    "### Q8.5: Row max and min (4 marks)\n",
    "\n",
    "Find out the country with the most and least `total_alcohol_consumption` and print:\n",
    "\n",
    "\"The country that consumes the most alcohol is: XXX.\"\n",
    "\n",
    "\"The country that consumes the least alcohol is: XXX.\""
   ]
  },
  {
   "cell_type": "code",
   "execution_count": 31,
   "metadata": {
    "colab": {},
    "colab_type": "code",
    "id": "sVJZtvNwow6o",
    "outputId": "5caa91f1-c823-4a67-b4f6-b2d67e1348c0"
   },
   "outputs": [
    {
     "name": "stdout",
     "output_type": "stream",
     "text": [
      "The country that consumes the most alcohol is: Andorra.\n",
      "The country that consumes the least alcohol is: Afghanistan.\n"
     ]
    }
   ],
   "source": [
    "#enter your answer here\n",
    "import pandas as pd\n",
    "\n",
    "df = pd.read_csv('drinks.csv')\n",
    "df['total_alcohol_consumption'] = df['beer_servings'] + df['spirit_servings'] + df['wine_servings'] + df['total_litres_of_pure_alcohol']\n",
    "most_consumption_country = df.loc[df['total_alcohol_consumption'].idxmax()]['country']\n",
    "least_consumption_country = df.loc[df['total_alcohol_consumption'].idxmin()]['country']\n",
    "print(f\"The country that consumes the most alcohol is: {most_consumption_country}.\")\n",
    "print(f\"The country that consumes the least alcohol is: {least_consumption_country}.\")\n",
    "\n"
   ]
  },
  {
   "cell_type": "markdown",
   "metadata": {
    "colab_type": "text",
    "id": "QQ7AGmhOow6i"
   },
   "source": [
    "### Q8.6: Calculation by group (5 marks)\n",
    "\n",
    "calculate the following statistics for each continent:\n",
    "\n",
    "Mean (average) of total_alcohol_consumption.  \n",
    "Median (middle value) of total_alcohol_consumption.  \n",
    "Maximum value of total_alcohol_consumption.  \n",
    "Minimum value of total_alcohol_consumption.  \n",
    "Number of unique countries in each continent.  \n",
    "\n",
    "Store this data in a new pandas DataFrame named `continent_data`. The resulting `continent_data` DataFrame should have columns for `continent`, `mean_alcohol_consumption`, `median_alcohol_consumption`, `max_alcohol_consumption`, `min_alcohol_consumption`, and `unique_countries`."
   ]
  },
  {
   "cell_type": "code",
   "execution_count": 32,
   "metadata": {
    "colab": {},
    "colab_type": "code",
    "id": "8tLmHg-zow6j",
    "outputId": "173d1f2f-e0ac-46a6-c01c-e2a25c77d64c"
   },
   "outputs": [
    {
     "name": "stdout",
     "output_type": "stream",
     "text": [
      "  continent  mean_alcohol_consumption  median_alcohol_consumption  \\\n",
      "0        AF                 97.083019                       52.10   \n",
      "1        AS                109.125000                       69.20   \n",
      "2        EU                477.173333                      550.60   \n",
      "3        OC                187.131250                      100.25   \n",
      "4        SA                358.558333                      389.85   \n",
      "\n",
      "   max_alcohol_consumption  min_alcohol_consumption  unique_countries  \n",
      "0                    512.9                      0.0                49  \n",
      "1                    657.5                      0.0                32  \n",
      "2                    707.4                      0.0                44  \n",
      "3                    555.4                      0.0                15  \n",
      "4                    447.3                    219.8                12  \n"
     ]
    }
   ],
   "source": [
    "#enter your answer here\n",
    "\n",
    "import pandas as pd\n",
    "\n",
    "df = pd.read_csv('drinks.csv')\n",
    "df['total_alcohol_consumption'] = df['beer_servings'] + df['spirit_servings'] + df['wine_servings'] + df['total_litres_of_pure_alcohol']\n",
    "continent_data = df.groupby('continent')['total_alcohol_consumption'].agg(['mean', 'median', 'max', 'min', 'nunique']).reset_index()\n",
    "continent_data.columns = ['continent', 'mean_alcohol_consumption', 'median_alcohol_consumption', 'max_alcohol_consumption', 'min_alcohol_consumption', 'unique_countries']\n",
    "print(continent_data)\n"
   ]
  },
  {
   "cell_type": "markdown",
   "metadata": {
    "colab_type": "text",
    "id": "QQ7AGmhOow6i"
   },
   "source": [
    "### Q8.7: Compare columns (3 marks)\n",
    "\n",
    "Select all the countries that consume more beer than wine (i.e., `beer_servings` > `wine_servings`) , and store them in a list named `beer_lover`."
   ]
  },
  {
   "cell_type": "code",
   "execution_count": 33,
   "metadata": {},
   "outputs": [
    {
     "name": "stdout",
     "output_type": "stream",
     "text": [
      "['Albania', 'Algeria', 'Angola', 'Antigua & Barbuda', 'Armenia', 'Australia', 'Austria', 'Azerbaijan', 'Bahamas', 'Bahrain', 'Barbados', 'Belarus', 'Belgium', 'Belize', 'Benin', 'Bhutan', 'Bolivia', 'Bosnia-Herzegovina', 'Botswana', 'Brazil', 'Brunei', 'Bulgaria', 'Burkina Faso', 'Burundi', \"Cote d'Ivoire\", 'Cabo Verde', 'Cambodia', 'Cameroon', 'Canada', 'Central African Republic', 'Chad', 'China', 'Colombia', 'Congo', 'Costa Rica', 'Cuba', 'Cyprus', 'Czech Republic', 'DR Congo', 'Djibouti', 'Dominica', 'Dominican Republic', 'Ecuador', 'Egypt', 'El Salvador', 'Eritrea', 'Estonia', 'Ethiopia', 'Fiji', 'Finland', 'Gabon', 'Gambia', 'Germany', 'Ghana', 'Grenada', 'Guatemala', 'Guinea', 'Guinea-Bissau', 'Guyana', 'Honduras', 'Hungary', 'Iceland', 'India', 'Indonesia', 'Iraq', 'Ireland', 'Israel', 'Jamaica', 'Japan', 'Jordan', 'Kazakhstan', 'Kenya', 'Kiribati', 'Kyrgyzstan', 'Latvia', 'Lesotho', 'Liberia', 'Lithuania', 'Madagascar', 'Malawi', 'Malaysia', 'Mali', 'Malta', 'Mauritius', 'Mexico', 'Micronesia', 'Mongolia', 'Morocco', 'Mozambique', 'Myanmar', 'Namibia', 'Nauru', 'Nepal', 'Netherlands', 'New Zealand', 'Nicaragua', 'Niger', 'Nigeria', 'Niue', 'Norway', 'Oman', 'Palau', 'Panama', 'Papua New Guinea', 'Paraguay', 'Peru', 'Philippines', 'Poland', 'South Korea', 'Moldova', 'Romania', 'Russian Federation', 'Rwanda', 'St. Kitts & Nevis', 'St. Lucia', 'St. Vincent & the Grenadines', 'Samoa', 'Senegal', 'Serbia', 'Seychelles', 'Sierra Leone', 'Singapore', 'Slovakia', 'Solomon Islands', 'South Africa', 'Spain', 'Sri Lanka', 'Sudan', 'Suriname', 'Swaziland', 'Tajikistan', 'Thailand', 'Macedonia', 'Togo', 'Tonga', 'Trinidad & Tobago', 'Tunisia', 'Turkey', 'Uganda', 'Ukraine', 'United Arab Emirates', 'United Kingdom', 'Tanzania', 'USA', 'Uzbekistan', 'Vanuatu', 'Venezuela', 'Vietnam', 'Yemen', 'Zambia', 'Zimbabwe']\n"
     ]
    }
   ],
   "source": [
    "#enter your answer here\n",
    "import pandas as pd\n",
    "\n",
    "df = pd.read_csv('drinks.csv')\n",
    "beer_lover = df.loc[df['beer_servings'] > df['wine_servings'], 'country'].tolist()\n",
    "print(beer_lover)\n",
    "\n"
   ]
  },
  {
   "cell_type": "markdown",
   "metadata": {},
   "source": [
    "### 8.8 Identify minimum by group  (5 marks)\n",
    "\n",
    "Find out the country that consumes the least alcohol (i.e., minimum of `total_alcohol_consumption`) in each continent. Then, for each continent, print the following statement: \n",
    "\n",
    "\"The country that consumes the least alcohol inn {continent_name} is {country_name}\""
   ]
  },
  {
   "cell_type": "code",
   "execution_count": 34,
   "metadata": {
    "scrolled": true
   },
   "outputs": [
    {
     "name": "stdout",
     "output_type": "stream",
     "text": [
      "The country that consumes the least alcohol in AF is Libya.\n",
      "The country that consumes the least alcohol in AS is Afghanistan.\n",
      "The country that consumes the least alcohol in EU is Monaco.\n",
      "The country that consumes the least alcohol in OC is Marshall Islands.\n",
      "The country that consumes the least alcohol in SA is Bolivia.\n"
     ]
    }
   ],
   "source": [
    "#Write your code\n",
    "import pandas as pd\n",
    "\n",
    "df = pd.read_csv('drinks.csv')\n",
    "df['total_alcohol_consumption'] = df['beer_servings'] + df['spirit_servings'] + df['wine_servings'] + df['total_litres_of_pure_alcohol']\n",
    "min_alcohol_countries = df.loc[df.groupby('continent')['total_alcohol_consumption'].idxmin()][['continent', 'country']]\n",
    "for index, row in min_alcohol_countries.iterrows():\n",
    "    print(f\"The country that consumes the least alcohol in {row['continent']} is {row['country']}.\")\n"
   ]
  },
  {
   "cell_type": "markdown",
   "metadata": {},
   "source": [
    "### Q8.9 Compare multiple columns (6 marks)\n",
    "\n",
    "Generate a new column `consume_most` in `df` which takes three values **\"beer\", \"spirit\" and \"wine\"** such that `consume_most` equals **\"beer\"** if a country consumes the most beer (i.e., `beer_servings` is larger than `wine_servings` and `spirit_servings`), `consume_most` equals **\"spirit\"** if a country consumes the most spirit, and `consume_most` equals **\"wine\"** if a country consumes the most wine.\n",
    "\n",
    "**Note**: for countries consuming zero alcohol, do not assign a value to `consume_most`, i.e., `consume_most` takes a null value."
   ]
  },
  {
   "cell_type": "code",
   "execution_count": 39,
   "metadata": {},
   "outputs": [
    {
     "name": "stdout",
     "output_type": "stream",
     "text": [
      "         country  beer_servings  spirit_servings  wine_servings  \\\n",
      "0    Afghanistan              0                0              0   \n",
      "1        Albania             89              132             54   \n",
      "2        Algeria             25                0             14   \n",
      "3        Andorra            245              138            312   \n",
      "4         Angola            217               57             45   \n",
      "..           ...            ...              ...            ...   \n",
      "188    Venezuela            333              100              3   \n",
      "189      Vietnam            111                2              1   \n",
      "190        Yemen              6                0              0   \n",
      "191       Zambia             32               19              4   \n",
      "192     Zimbabwe             64               18              4   \n",
      "\n",
      "     total_litres_of_pure_alcohol continent consume_most  \n",
      "0                             0.0        AS         None  \n",
      "1                             4.9        EU       spirit  \n",
      "2                             0.7        AF         beer  \n",
      "3                            12.4        EU         wine  \n",
      "4                             5.9        AF         beer  \n",
      "..                            ...       ...          ...  \n",
      "188                           7.7        SA         beer  \n",
      "189                           2.0        AS         beer  \n",
      "190                           0.1        AS         beer  \n",
      "191                           2.5        AF         beer  \n",
      "192                           4.7        AF         beer  \n",
      "\n",
      "[193 rows x 7 columns]\n"
     ]
    }
   ],
   "source": [
    "#enter your answer here\n",
    "\n",
    "import pandas as pd\n",
    "\n",
    "# Load the data into a DataFrame\n",
    "df = pd.read_csv('drinks.csv')\n",
    "\n",
    "# Generate the new column consume_most\n",
    "conditions = [\n",
    "    (df['beer_servings'] > df['spirit_servings']) & (df['beer_servings'] > df['wine_servings']),\n",
    "    (df['spirit_servings'] > df['beer_servings']) & (df['spirit_servings'] > df['wine_servings']),\n",
    "    (df['wine_servings'] > df['beer_servings']) & (df['wine_servings'] > df['spirit_servings'])\n",
    "]\n",
    "choices = ['beer', 'spirit', 'wine']\n",
    "\n",
    "df['consume_most'] = np.select(conditions, choices, default=None)\n",
    "\n",
    "# Print the updated DataFrame\n",
    "print(df)\n"
   ]
  },
  {
   "cell_type": "markdown",
   "metadata": {},
   "source": [
    "### THIS IS THE END OF THE TEST (100 marks available)"
   ]
  },
  {
   "cell_type": "markdown",
   "metadata": {},
   "source": [
    "--------------"
   ]
  }
 ],
 "metadata": {
  "colab": {
   "collapsed_sections": [
    "U__QxFrRow5l"
   ],
   "name": "FBA - Python Test (2018).ipynb",
   "provenance": [],
   "toc_visible": true,
   "version": "0.3.2"
  },
  "kernelspec": {
   "display_name": "Python 3 (ipykernel)",
   "language": "python",
   "name": "python3"
  },
  "language_info": {
   "codemirror_mode": {
    "name": "ipython",
    "version": 3
   },
   "file_extension": ".py",
   "mimetype": "text/x-python",
   "name": "python",
   "nbconvert_exporter": "python",
   "pygments_lexer": "ipython3",
   "version": "3.11.5"
  }
 },
 "nbformat": 4,
 "nbformat_minor": 1
}
