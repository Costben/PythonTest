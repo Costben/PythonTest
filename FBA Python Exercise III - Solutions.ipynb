{
 "cells": [
  {
   "cell_type": "markdown",
   "metadata": {
    "colab_type": "text",
    "id": "1NDjN566ow3f"
   },
   "source": [
    "\n",
    "# FBA - Python Exercise II\n",
    "\n",
    "* This Exercise follow the same format as our final lab exam.\n",
    "* Please enter your answers into the spaces provided.\n",
    "* The expected outcome is presented below each space section as prompt (You won't have it in the exam!)\n",
    "* In the lab exam, we recommend that you show comments in your code, to evidence your working if possible (comments may earn some credit even if your script code is not 100% correct).\n",
    "* The exam will NOT mark on the elegance or efficiency of your coding, but rather getting the correct result in the instructed manner.\n",
    "* This Exercise will cover all basic python practice we have done."
   ]
  },
  {
   "cell_type": "code",
   "execution_count": null,
   "metadata": {},
   "outputs": [],
   "source": []
  },
  {
   "cell_type": "markdown",
   "metadata": {
    "colab_type": "text",
    "id": "M5wZwqgwow3j"
   },
   "source": [
    "## Section 1 - Variables, Types & Operation\n",
    "\n",
    "### Q1.1: Variable assignment\n",
    "\n",
    "Create a variable `date_today` and assign a value to that variable that will represent today's date."
   ]
  },
  {
   "cell_type": "code",
   "execution_count": 1,
   "metadata": {
    "colab": {},
    "colab_type": "code",
    "id": "GvIex29Low3l",
    "outputId": "f7ea3fb2-e31d-4c1f-deb1-aeff97db0c65",
    "scrolled": true
   },
   "outputs": [],
   "source": [
    "# Write your code here\n",
    "date_today = 15"
   ]
  },
  {
   "cell_type": "markdown",
   "metadata": {
    "colab_type": "text",
    "id": "t4sH7gqCow3v"
   },
   "source": [
    "### Q1.2: Data Types & Operation \n",
    "\n",
    "In this question you have the following tasks:\n",
    "\n",
    "* Assign to a variable `myint` the integer value of 6\n",
    "* Assign to a variable `myfloat` the float value of 7.0\n",
    "* Assign to a variable `mystring` the string value of '8.1'\n",
    "* Assign to a variable `hello` to the string value of 'hello'\n",
    "* Assign to a vairable `world` to the string value of 'world'\n",
    "<br>\n",
    "\n",
    "* Assign to a variable `sum_result` as the sum of `myint`, `myfloat` and `myfloat`\n",
    "* Assign to a variable `helloworld` which combines the variables of `hello` and `world` and will be printed as `hello world`\n",
    "\n",
    "* Print `sum_result` and `helloworld` to the console\n"
   ]
  },
  {
   "cell_type": "code",
   "execution_count": 89,
   "metadata": {
    "colab": {},
    "colab_type": "code",
    "id": "NlS0mJhmow3w",
    "scrolled": true
   },
   "outputs": [
    {
     "name": "stdout",
     "output_type": "stream",
     "text": [
      "21.1\n",
      "hello world\n"
     ]
    }
   ],
   "source": [
    "# Write your code here\n",
    "\n",
    "myint = 6\n",
    "myfloat = 7.0\n",
    "mystring = '8.1'\n",
    "hello = 'hello'\n",
    "world = 'world'\n",
    "\n",
    "sum_result = myint + myfloat + float(mystring)\n",
    "helloworld = hello + \" \" + world\n",
    "\n",
    "print (sum_result)\n",
    "print (helloworld)\n"
   ]
  },
  {
   "cell_type": "markdown",
   "metadata": {
    "colab_type": "text",
    "id": "L9MC_cVeow31"
   },
   "source": [
    "## Section 2 - Loops & Conditionals\n",
    "\n",
    "In the section, our goal is to construt the following pattern:\n",
    "\n",
    "\n",
    "1<br>\n",
    "22<br>\n",
    "333<br>\n",
    "4444<br>\n",
    "55555<br>\n",
    "666666<br>\n",
    "7777777<br>\n",
    "88888888<br>\n",
    "999999999<br>\n",
    "\n",
    "You will be asked to do this in several ways, using different python functions. Please complete these below:\n",
    "\n",
    "### Q2.1: Use a for loop and the range() function\n",
    "\n",
    "Use a for loop and range() function to construct the pattern above\n",
    "\n"
   ]
  },
  {
   "cell_type": "code",
   "execution_count": 3,
   "metadata": {
    "colab": {},
    "colab_type": "code",
    "id": "or1fhGSsow32",
    "outputId": "127d63ac-bbcf-4305-872b-e3433007338b",
    "scrolled": true
   },
   "outputs": [
    {
     "name": "stdout",
     "output_type": "stream",
     "text": [
      "\n",
      "1\n",
      "22\n",
      "333\n",
      "4444\n",
      "55555\n",
      "666666\n",
      "7777777\n",
      "88888888\n",
      "999999999\n"
     ]
    }
   ],
   "source": [
    "# Write your code here\n",
    "for i in range(10):\n",
    "    print(str(i) * i)"
   ]
  },
  {
   "cell_type": "markdown",
   "metadata": {
    "colab_type": "text",
    "id": "HeZuOUQ1ow37"
   },
   "source": [
    "### Q2.2: Using a while loop - Option 1\n",
    "\n",
    "Construct the pattern again using a while loop."
   ]
  },
  {
   "cell_type": "code",
   "execution_count": 2,
   "metadata": {
    "colab": {},
    "colab_type": "code",
    "id": "3GRUr9oOow3-",
    "outputId": "3314e4f5-537e-472d-bdd7-c86f9f321af6",
    "scrolled": true
   },
   "outputs": [
    {
     "name": "stdout",
     "output_type": "stream",
     "text": [
      "1\n",
      "22\n",
      "333\n",
      "4444\n",
      "55555\n",
      "666666\n",
      "7777777\n",
      "88888888\n",
      "999999999\n"
     ]
    }
   ],
   "source": [
    " # Write your code here\n",
    "    \n",
    "i = 1\n",
    "while i < 10:\n",
    "    print(str(i) * i)\n",
    "    i += 1"
   ]
  },
  {
   "cell_type": "markdown",
   "metadata": {
    "colab_type": "text",
    "id": "gmUIkpwDow4C"
   },
   "source": [
    "### Q2.3: Using a while loop - Option 2 \n",
    "\n",
    "This time we want to use a `counter` and `while True` loop. You must exit the loop using  the `continue` or `break` statement (n.b. only one of these two commands will do what you want), and any other commands that you think useful."
   ]
  },
  {
   "cell_type": "code",
   "execution_count": 4,
   "metadata": {
    "colab": {},
    "colab_type": "code",
    "id": "Zt29Xrmrow4E",
    "outputId": "aeae70bd-093a-4809-cd79-27726d9e0424",
    "scrolled": true
   },
   "outputs": [
    {
     "name": "stdout",
     "output_type": "stream",
     "text": [
      "1\n",
      "22\n",
      "333\n",
      "4444\n",
      "55555\n",
      "666666\n",
      "7777777\n",
      "88888888\n",
      "999999999\n"
     ]
    }
   ],
   "source": [
    " # Write your code here\n",
    "counter = 1\n",
    "while True:\n",
    "    print(str(i) * i)\n",
    "    counter += 1\n",
    "    if counter >= 10:\n",
    "        break"
   ]
  },
  {
   "cell_type": "markdown",
   "metadata": {
    "colab_type": "text",
    "id": "Dw1O1EAHow4J"
   },
   "source": [
    "# Section 3 - If statements"
   ]
  },
  {
   "cell_type": "markdown",
   "metadata": {
    "colab_type": "text",
    "id": "vBn_VoWbow4K"
   },
   "source": [
    "### Q3.1: Using if, elif and else\n",
    "Define a function called `grade_converter` which takes a parameter `grade`. You need to use appropriate `if`, `elif` and `else` statements that will compare the input `grade` with a number and then return a letter grade:\n",
    "\n",
    "* 90 or higher should get an \"A\"\n",
    "* 80 - 89 should get a \"B\"\n",
    "* 70 - 79 should get a \"C\"\n",
    "* 65 - 69 should get a \"D\"\n",
    "* Anything below a 65 should receive an \"F\"\n",
    "\n",
    "Given a variable `mygrade` which takes an input as the grade of you, test your `grade_converter` function with the input."
   ]
  },
  {
   "cell_type": "code",
   "execution_count": 7,
   "metadata": {
    "colab": {},
    "colab_type": "code",
    "id": "rsuS8WSTow4L",
    "scrolled": true
   },
   "outputs": [
    {
     "name": "stdout",
     "output_type": "stream",
     "text": [
      "Type your grade here: 100\n",
      "A\n"
     ]
    }
   ],
   "source": [
    "# Write your code here\n",
    "\n",
    "def grade_converter(grade):\n",
    "    if grade >= 90:\n",
    "        return \"A\"\n",
    "    elif grade >= 80 and grade <= 89:\n",
    "        return \"B\"\n",
    "    elif grade >= 70 and grade <= 79:\n",
    "        return \"C\"\n",
    "    elif grade >= 65 and grade <= 69:\n",
    "        return \"D\"\n",
    "    else:\n",
    "        return \"F\"\n",
    "\n",
    "mygrade = int(input(\"Type your grade here: \"))\n",
    "print (grade_converter(mygrade))"
   ]
  },
  {
   "cell_type": "markdown",
   "metadata": {
    "colab_type": "text",
    "id": "TEjNdPL6ow4W"
   },
   "source": [
    "### Q3.2: Nested conditionals \n",
    "Given an input variable `age` that takes the value of your age, please use <i>nested</i> if statements to cover the following cases:\n",
    "\n",
    "- If the age is smaller than 18:\n",
    "    - Print: 'You are Minor' and 'You are not Eligible to Work'\n",
    "- If the number larger and equal to 18:\n",
    "    - And if the age is smaller than and equal to 60, print: 'You are Eligible to Work' and 'Please fill in your details and apply'\n",
    "    - And if the number larger than 60, print: 'You are too old to work as per the Government rules' and 'Please Collect your pension!'"
   ]
  },
  {
   "cell_type": "code",
   "execution_count": 6,
   "metadata": {
    "colab": {},
    "colab_type": "code",
    "id": "J36tV2V-ow4X",
    "scrolled": true
   },
   "outputs": [
    {
     "name": "stdout",
     "output_type": "stream",
     "text": [
      " Please Enter Your Age Here:  18\n",
      " You are Eligible to Work \n",
      " Please fill in your details and apply\n"
     ]
    }
   ],
   "source": [
    "# Write your code here\n",
    "age = int(input(\" Please Enter Your Age Here:  \"))\n",
    "\n",
    "if age < 18:\n",
    "    print(\" You are Minor \") \n",
    "    print(\" You are not Eligible to Work \") \n",
    "else:\n",
    "    if age <= 60:\n",
    "        print(\" You are Eligible to Work \")\n",
    "        print(\" Please fill in your details and apply\")\n",
    "    else:\n",
    "        print(\" You are too old to work as per the Government rules\")\n",
    "        print(\" Please Collect your pension!\")"
   ]
  },
  {
   "cell_type": "markdown",
   "metadata": {
    "colab_type": "text",
    "id": "FHBRMi88Jlby"
   },
   "source": [
    "### Q3.3: Error Checking by more Nesting\n",
    "Add another if statement around your code in the previous question that checks that the supplied value in `age` is larger than 0. If it is, the code runs as before. If it isn't, print out the message \"Invalid age input\". (feel free to cut and paste your code from the previous question)"
   ]
  },
  {
   "cell_type": "code",
   "execution_count": 11,
   "metadata": {
    "colab": {},
    "colab_type": "code",
    "id": "oOECq1VqJlb0",
    "scrolled": true
   },
   "outputs": [
    {
     "name": "stdout",
     "output_type": "stream",
     "text": [
      " Please Enter Your Age Here:  -1\n",
      " Invalid age input \n"
     ]
    }
   ],
   "source": [
    "# Write your code here\n",
    "age = int(input(\" Please Enter Your Age Here:  \"))\n",
    "\n",
    "if age < 0:\n",
    "    print (\" Invalid age input \")\n",
    "else:\n",
    "    if age < 18:\n",
    "        print(\" You are Minor \") \n",
    "        print(\" You are not Eligible to Work \") \n",
    "    else:\n",
    "        if age <= 60:\n",
    "            print(\" You are Eligible to Work \")\n",
    "            print(\" Please fill in your details and apply\")\n",
    "        else:\n",
    "            print(\" You are too old to work as per the Government rules\")\n",
    "            print(\" Please Collect your pension!\")"
   ]
  },
  {
   "cell_type": "markdown",
   "metadata": {
    "colab_type": "text",
    "id": "GEwFA8uUow4b"
   },
   "source": [
    "# Section 4 - Data Structures"
   ]
  },
  {
   "cell_type": "markdown",
   "metadata": {
    "colab_type": "text",
    "id": "JqQlIjG2ow4e"
   },
   "source": [
    "### Q4.1: List creation \n",
    "\n",
    "Create a list of animals that contains the following aminals: __'tiger', 'elephant', 'lion' and 'monkey'__ and assign it to a variable `zoo_list`. "
   ]
  },
  {
   "cell_type": "code",
   "execution_count": 13,
   "metadata": {
    "colab": {},
    "colab_type": "code",
    "id": "Y3kkwfJaow4f",
    "scrolled": false
   },
   "outputs": [
    {
     "name": "stdout",
     "output_type": "stream",
     "text": [
      "['tiger', 'elephant', 'lion', 'monkey']\n"
     ]
    }
   ],
   "source": [
    "zoo_list = ['tiger', 'elephant', 'lion', 'monkey']\n",
    "\n",
    "print(zoo_list)"
   ]
  },
  {
   "cell_type": "markdown",
   "metadata": {
    "colab_type": "text",
    "id": "W9iVsoKtow4o"
   },
   "source": [
    "### Q4.2: List indexing and modification \n",
    "\n",
    "Update the `zoo_list` by replacing the `tiger` by `panda`. Add another two animals `penguin` and `hippo`."
   ]
  },
  {
   "cell_type": "code",
   "execution_count": 14,
   "metadata": {
    "colab": {},
    "colab_type": "code",
    "id": "3O6vedNBow4q",
    "outputId": "68a64be2-27f9-43eb-f348-b1b428ddb9d6",
    "scrolled": true
   },
   "outputs": [
    {
     "name": "stdout",
     "output_type": "stream",
     "text": [
      "['panda', 'elephant', 'lion', 'monkey', 'penguin', 'hippo']\n"
     ]
    }
   ],
   "source": [
    "zoo_list[zoo_list.index('tiger')] = 'panda'\n",
    "zoo_list.append('penguin')\n",
    "zoo_list.append('hippo')\n",
    "\n",
    "print (zoo_list)"
   ]
  },
  {
   "cell_type": "markdown",
   "metadata": {
    "colab_type": "text",
    "id": "CJJTjQW8ow4x"
   },
   "source": [
    "### Q4.3: List slicing\n",
    "\n",
    "Create a list `middle` that contains only the two middle animals from `zoo_list`.\n",
    "\n",
    "Create a list `last` that is made up only of the last two items from `zoo_list`."
   ]
  },
  {
   "cell_type": "code",
   "execution_count": 73,
   "metadata": {
    "colab": {},
    "colab_type": "code",
    "id": "azHLj_dqow4y",
    "outputId": "9430de37-5702-402e-e09d-1254d22742d1",
    "scrolled": true
   },
   "outputs": [
    {
     "name": "stdout",
     "output_type": "stream",
     "text": [
      "['lion', 'monkey']\n",
      "['penguin', 'hippo']\n"
     ]
    }
   ],
   "source": [
    "# The middle two animals\n",
    "middle = zoo_list[2:4]\n",
    "\n",
    "# The last two items (index four and five)\n",
    "last =  zoo_list[len(zoo_list)-2:len(zoo_list)]\n",
    "\n",
    "# Print the two lists\n",
    "print (middle)\n",
    "print (last)"
   ]
  },
  {
   "cell_type": "markdown",
   "metadata": {},
   "source": [
    "### Q4.3: Insert new items in a list\n",
    "\n",
    "Find the index of __\"lion\"__ and assign that result to a variable called `lion_index`.\n",
    "\n",
    "Insert __\"cobra\"__ at that index (not replacing)."
   ]
  },
  {
   "cell_type": "code",
   "execution_count": 15,
   "metadata": {},
   "outputs": [
    {
     "name": "stdout",
     "output_type": "stream",
     "text": [
      "['panda', 'elephant', 'cobra', 'lion', 'monkey', 'penguin', 'hippo']\n"
     ]
    }
   ],
   "source": [
    "# Find the index of lion\n",
    "lion_index = zoo_list.index(\"lion\") # Use index() to find \"lion\"\n",
    "\n",
    "# Insert the new animal\n",
    "zoo_list.insert(lion_index, \"cobra\")\n",
    "\n",
    "# Print the new zoo_list\n",
    "print (zoo_list) "
   ]
  },
  {
   "cell_type": "markdown",
   "metadata": {
    "colab_type": "text",
    "id": "8lLZ0FWbow43"
   },
   "source": [
    "### Q4.5: Dictionary creation\n",
    "\n",
    "Create a dictionary `Prices` which contains the following pairs of grocery items and their prices:\n",
    "\n",
    "|key|value|\n",
    "|-|-|\n",
    "|Cheese|8.4|\n",
    "|Egg|2.9|\n",
    "|Bread|1.8|\n",
    "|Milk|2.4|\n",
    "|Sausage|5.8|\n",
    "\n",
    "Create another dictionary `Inventory` which contains the pairs of grocery items and their inventory levels.\n",
    "\n",
    "|key|value|\n",
    "|-|-|\n",
    "|Cheese|16|\n",
    "|Egg|87|\n",
    "|Bread|30|\n",
    "|Milk|18|\n",
    "|Sausage|27|\n",
    "\n",
    "For each key, print out the key along with its price and inventory information.\n",
    "\n",
    "Print the answer in EXACTLY the following format:\n",
    "\n",
    "<font color=grey>Cheese <br>\n",
    "price: 8.4 <br>\n",
    "inventory: 16 </font>"
   ]
  },
  {
   "cell_type": "code",
   "execution_count": 16,
   "metadata": {
    "colab": {},
    "colab_type": "code",
    "id": "Bh70t63sow45",
    "scrolled": false
   },
   "outputs": [
    {
     "name": "stdout",
     "output_type": "stream",
     "text": [
      "Cheese\n",
      "price: 8.4\n",
      "stock: 16\n",
      "\n",
      "Egg\n",
      "price: 2.9\n",
      "stock: 87\n",
      "\n",
      "Bread\n",
      "price: 1.8\n",
      "stock: 30\n",
      "\n",
      "Milk\n",
      "price: 2.4\n",
      "stock: 18\n",
      "\n",
      "Sausage\n",
      "price: 5.8\n",
      "stock: 27\n",
      "\n"
     ]
    }
   ],
   "source": [
    "prices = {\n",
    "    \"Cheese\" : 8.4,\n",
    "    \"Egg\"  : 2.9,\n",
    "    \"Bread\" : 1.8,\n",
    "    \"Milk\"   : 2.4,\n",
    "    \"Sausage\": 5.8\n",
    "}\n",
    "\n",
    "inventory = {\n",
    "    \"Cheese\" : 16,\n",
    "    \"Egg\"  : 87,\n",
    "    \"Bread\" : 30,\n",
    "    \"Milk\"   : 18,\n",
    "    \"Sausage\": 27\n",
    "}\n",
    "\n",
    "for a in prices:\n",
    "    print (a)\n",
    "    print (\"price: %s\" % prices[a])\n",
    "    print (\"stock: %s\" % inventory[a])\n",
    "    print ()"
   ]
  },
  {
   "cell_type": "markdown",
   "metadata": {},
   "source": [
    "### Q4.6: Dictionary calculation \n",
    "\n",
    "Calculate how much money you would earn if you sell all the grocery items in stock.\n",
    "\n",
    "For each key in `prices`, multiply the value in `prices` by the number in `inventory`. Sum the total value of all the inventory and print the `total`."
   ]
  },
  {
   "cell_type": "code",
   "execution_count": 84,
   "metadata": {},
   "outputs": [
    {
     "name": "stdout",
     "output_type": "stream",
     "text": [
      "640.5\n"
     ]
    }
   ],
   "source": [
    "total = 0\n",
    "for a in prices:\n",
    "    total += prices[a] * inventory[a]\n",
    "\n",
    "print (total)"
   ]
  },
  {
   "cell_type": "markdown",
   "metadata": {
    "colab_type": "text",
    "id": "BKJIgDKpow49"
   },
   "source": [
    "### Q4.7: Calculation and updating a dictionary  \n",
    "\n",
    "* Create a list called `shopping_list` that takes the values __\"banana\",\"orange\", and \"apple\"__.\n",
    "\n",
    "* Defined a function `bill` that takes a parameter `food`, which does the following tasks:\n",
    "\n",
    "    - Calculate the costs of food as `total`. While looping through each item of food, the function should only add the price of the item to total if the item's inventory count is greater than zero. (You need to refer the price in the `prices` dictionary and the inventory level in the `inventory` dictionary).\n",
    "\n",
    "    - If the item is in stock and after you add the price to the total, subtract one from the item's inventory count.\n",
    "\n",
    "* Call the `bill` function to calculate the total costs of `shopping_list`.\n",
    "\n",
    "* Print the updated `inventory`."
   ]
  },
  {
   "cell_type": "code",
   "execution_count": 34,
   "metadata": {
    "colab": {},
    "colab_type": "code",
    "id": "6AEvimNUow4-",
    "outputId": "2ee9be09-d7d3-4f1f-e74b-1a8163e75da4",
    "scrolled": true
   },
   "outputs": [
    {
     "name": "stdout",
     "output_type": "stream",
     "text": [
      "13.700000000000001\n",
      "{'Cheese': 12, 'Egg': 74, 'Bread': 30, 'Milk': 14, 'Sausage': 27}\n"
     ]
    }
   ],
   "source": [
    "shopping_list = [\"Cheese\", \"Milk\", \"Egg\"]\n",
    "\n",
    "\n",
    "def bill(food):\n",
    "    total = 0\n",
    "    for a in food:\n",
    "        if inventory[a] > 0:\n",
    "            total += prices[a]\n",
    "            inventory[a] -= 1\n",
    "    return total\n",
    "  \n",
    "print (bill(shopping_list))\n",
    "print (inventory)\n",
    "\n"
   ]
  },
  {
   "cell_type": "markdown",
   "metadata": {
    "colab_type": "text",
    "id": "swjimVhhow5f"
   },
   "source": [
    "# Section 5 - Functions\n",
    "\n",
    "### Q5.1: A basic function\n",
    "\n",
    "Define a function `hello_world` that prints \"Hello world!\" to the console. You need to call the functon to test it."
   ]
  },
  {
   "cell_type": "code",
   "execution_count": 32,
   "metadata": {
    "colab": {},
    "colab_type": "code",
    "id": "_p0R6lC4ow5g",
    "scrolled": true
   },
   "outputs": [
    {
     "name": "stdout",
     "output_type": "stream",
     "text": [
      "Hello World!\n"
     ]
    }
   ],
   "source": [
    "# Write your code here\n",
    "def hello_world():\n",
    "  print (\"Hello World!\") #Prints 'Hello World!' to the console.\n",
    "\n",
    "#Test your function here\n",
    "hello_world()"
   ]
  },
  {
   "cell_type": "markdown",
   "metadata": {
    "colab_type": "text",
    "id": "SiIbmD-Low5p"
   },
   "source": [
    "### Q5.2: Function Parameters and calculation\n",
    "Define a function `power` that takes two arguments: `base` and `exp`. This function should raise the `base` to the power of `exp`, and print the the sentence: `base` to the power of `exp` is `result`.\n",
    "\n",
    "Call your function with a `base` of `18` and an `exp` of `5`. Your code should print: `18 to the power of 5 is 1889568.`"
   ]
  },
  {
   "cell_type": "code",
   "execution_count": 51,
   "metadata": {
    "colab": {},
    "colab_type": "code",
    "id": "XiJYH1zzow5r",
    "outputId": "408e79be-f073-433f-a3c9-87c2d76a39b1",
    "scrolled": true
   },
   "outputs": [
    {
     "name": "stdout",
     "output_type": "stream",
     "text": [
      "18 to the power of 5 is 1889568.\n"
     ]
    }
   ],
   "source": [
    "# Write your code here\n",
    "def power(base,exponent):\n",
    "  result = base ** exponent\n",
    "  print (\"%d to the power of %d is %d.\" % (base, exponent, result))\n",
    "\n",
    "# call your function here\n",
    "power(18,5)"
   ]
  },
  {
   "cell_type": "markdown",
   "metadata": {
    "colab_type": "text",
    "id": "1zt8r3KGJldP"
   },
   "source": [
    "### Q5.3: A function to sum values in a list\n",
    "Define a function `sum_list` that sums all the values in a list.\n",
    "\n",
    "Create a list `ls_test = [12, 14, 17, 19]` and test your function with this list.\n"
   ]
  },
  {
   "cell_type": "code",
   "execution_count": 3,
   "metadata": {
    "colab": {},
    "colab_type": "code",
    "id": "e9_0-vesJldQ",
    "scrolled": true
   },
   "outputs": [
    {
     "name": "stdout",
     "output_type": "stream",
     "text": [
      "62\n"
     ]
    }
   ],
   "source": [
    "# Write your code here\n",
    "def sum_list(ls):\n",
    "    total = 0\n",
    "    for x in ls:\n",
    "        total += x\n",
    "    return total\n",
    "\n",
    "# Test your function here\n",
    "ls_test = [12, 14, 17, 19]\n",
    "print(sum(ls_test))"
   ]
  },
  {
   "cell_type": "markdown",
   "metadata": {
    "colab_type": "text",
    "id": "q87rKV1zow5v"
   },
   "source": [
    "# Section 6 - Module Import & Data Management\n",
    "\n",
    "### Q6.1: Importing a module\n",
    "\n",
    "Import the module `Numpy` with the usual shortcut name `np`"
   ]
  },
  {
   "cell_type": "code",
   "execution_count": 35,
   "metadata": {
    "colab": {},
    "colab_type": "code",
    "id": "61729pDfow5w",
    "scrolled": true
   },
   "outputs": [],
   "source": [
    "import numpy as np"
   ]
  },
  {
   "cell_type": "markdown",
   "metadata": {
    "colab_type": "text",
    "id": "Au_yvpZLow5y"
   },
   "source": [
    "### Q6.2: Ndarray Creation\n",
    "\n",
    "Create a two-dimensional 4x3 matrix `mat` ranging from 1 to 12 using `NumPy array`.\n"
   ]
  },
  {
   "cell_type": "code",
   "execution_count": 40,
   "metadata": {
    "colab": {},
    "colab_type": "code",
    "id": "gbkOzLleow50",
    "scrolled": true
   },
   "outputs": [
    {
     "name": "stdout",
     "output_type": "stream",
     "text": [
      "[[ 1  2  3]\n",
      " [ 4  5  6]\n",
      " [ 7  8  9]\n",
      " [10 11 12]]\n"
     ]
    }
   ],
   "source": [
    "# Write your code here\n",
    "mat =  np.arange(1, 13).reshape(4,3)\n",
    "print(mat)"
   ]
  },
  {
   "cell_type": "markdown",
   "metadata": {
    "colab_type": "text",
    "id": "UX_PoEvAow56"
   },
   "source": [
    "### Q6.3: Mean\n",
    "\n",
    "What is the mean of each row of the matrix `mat`? Please use a function in Numpy to do this (if needed, refer to the Numpy documentation to find the function to use and check its parameters)."
   ]
  },
  {
   "cell_type": "code",
   "execution_count": 41,
   "metadata": {
    "colab": {},
    "colab_type": "code",
    "id": "niHXM1ibow57",
    "outputId": "acdc92c4-97eb-4c52-fe6b-dabb7411a110",
    "scrolled": true
   },
   "outputs": [
    {
     "name": "stdout",
     "output_type": "stream",
     "text": [
      "2.0\n",
      "5.0\n",
      "8.0\n",
      "11.0\n"
     ]
    }
   ],
   "source": [
    "for i in mat:\n",
    "    print (np.mean(i))"
   ]
  },
  {
   "cell_type": "markdown",
   "metadata": {
    "colab_type": "text",
    "id": "xWJmTDhSow5-"
   },
   "source": [
    "### Q6.4: Array indices\n",
    "\n",
    "Print out the indices of the maximum and minimum values in `mat`."
   ]
  },
  {
   "cell_type": "code",
   "execution_count": 46,
   "metadata": {
    "colab": {},
    "colab_type": "code",
    "id": "8nWqCnmtow5_",
    "outputId": "9321abdc-ffc5-4b15-8f1a-a249eaeaba90",
    "scrolled": true
   },
   "outputs": [
    {
     "name": "stdout",
     "output_type": "stream",
     "text": [
      "Maximum Values:  11\n",
      "Minimum Values:  0\n"
     ]
    }
   ],
   "source": [
    "print(\"Maximum Values: \",np.argmax(mat))\n",
    "print(\"Minimum Values: \",np.argmin(mat))"
   ]
  },
  {
   "cell_type": "markdown",
   "metadata": {
    "colab_type": "text",
    "id": "SJyVGJSvJldw"
   },
   "source": [
    "### Q6.5 Date format \n",
    "\n",
    "Create a new matrix `mat_f` which changes the datatype of `mat` to `float`."
   ]
  },
  {
   "cell_type": "code",
   "execution_count": 47,
   "metadata": {
    "colab": {},
    "colab_type": "code",
    "id": "-BwvTe1pJldx",
    "scrolled": true
   },
   "outputs": [
    {
     "name": "stdout",
     "output_type": "stream",
     "text": [
      "[[ 1.  2.  3.]\n",
      " [ 4.  5.  6.]\n",
      " [ 7.  8.  9.]\n",
      " [10. 11. 12.]]\n"
     ]
    }
   ],
   "source": [
    "# Write your code here\n",
    "mat_f = mat.astype(float)\n",
    "\n",
    "print(mat_f)"
   ]
  },
  {
   "cell_type": "markdown",
   "metadata": {
    "colab_type": "text",
    "id": "EIsLZ030ow6E"
   },
   "source": [
    "# Section 7 - Reading a file manually\n",
    "\n",
    "### Q7.1: Reading the first 10 lines\n",
    "\n",
    "In the same folder as this Jupyter Notebook, you are given a file `Public_bike system_tripdata_201811.csv`.\n",
    "\n",
    "* Using the standard Python functions (open(), read(), readline(), write(), ...), print the content of the first 10 lines of the file to the screen."
   ]
  },
  {
   "cell_type": "code",
   "execution_count": 22,
   "metadata": {
    "colab": {},
    "colab_type": "code",
    "id": "1BzImc2Xow6F",
    "outputId": "0a624275-dd4d-4f37-ea64-115cc69af7f6",
    "scrolled": true
   },
   "outputs": [
    {
     "name": "stdout",
     "output_type": "stream",
     "text": [
      "['tripduration', 'starttime', 'stoptime', 'startstationid', 'startstationname', 'startstationlatitude', 'startstationlongitude', 'endstationid', 'endstationname', 'endstationlatitude', 'endstationlongitude', 'bikeid', 'usertype', 'birthyear', 'gender', 'random', 'insample']\n",
      "['1498', '2018-11-09 08:50:39.1350', '2018-11-09 09:15:37.7090', '388', 'W 26 St & 10 Ave', '40.749718', '-74.002953', '327', 'Vesey Pl & River Terrace', '40.71534', '-74.016586', '31991', 'Subscriber', '1992', '1', '7.2279065e-08', '1']\n",
      "['1004', '2018-11-03 14:47:50.2070', '2018-11-03 15:04:34.8700', '525', 'W 34 St & 11 Ave', '40.755943', '-74.002113', '530', '11 Ave & W 59 St', '40.771523', '-73.99054', '34396', 'Customer', '1969', '0', '1.1836472e-06', '1']\n",
      "['242', '2018-11-02 00:39:07.3540', '2018-11-02 00:43:10.0260', '3169', 'Riverside Dr & W 82 St', '40.787209', '-73.981277', '3167', 'Amsterdam Ave & W 73 St', '40.779667', '-73.980934', '15203', 'Subscriber', '1966', '1', '2.0242212e-06', '1']\n",
      "['673', '2018-11-09 08:06:35.6140', '2018-11-09 08:17:49.5970', '445', 'E 10 St & Avenue A', '40.727409', '-73.981422', '540', 'Lexington Ave & E 29 St', '40.743114', '-73.982155', '32173', 'Subscriber', '1989', '2', '2.4188146e-06', '1']\n",
      "['381', '2018-11-05 15:12:51.8650', '2018-11-05 15:19:13.7560', '466', 'W 25 St & 6 Ave', '40.743954', '-73.991447', '3255', '8 Ave & W 31 St', '40.750584', '-73.994682', '34794', 'Subscriber', '1985', '1', '3.4859163e-06', '1']\n",
      "['818', '2018-11-18 11:36:32.2060', '2018-11-18 11:50:11.1740', '438', 'St Marks Pl & 1 Ave', '40.727791', '-73.985649', '128', 'MacDougal St & Prince St', '40.727104', '-74.002968', '31791', 'Subscriber', '1983', '2', '3.4948978e-06', '1']\n",
      "['484', '2018-11-04 08:40:57.9820', '2018-11-04 08:49:02.5170', '236', 'St Marks Pl & 2 Ave', '40.72842', '-73.987137', '285', 'Broadway & E 14 St', '40.734547', '-73.990738', '29854', 'Customer', '1969', '0', '3.7770185e-06', '1']\n",
      "['873', '2018-11-12 13:46:30.9890', '2018-11-12 14:01:04.5500', '247', 'Perry St & Bleecker St', '40.735355', '-74.004829', '465', 'Broadway & W 41 St', '40.755135', '-73.98658', '32471', 'Subscriber', '1968', '1', '4.3406567e-06', '1']\n",
      "['751', '2018-11-14 13:29:28.5370', '2018-11-14 13:42:00.4930', '394', 'E 9 St & Avenue C', '40.725212', '-73.977684', '285', 'Broadway & E 14 St', '40.734547', '-73.990738', '33678', 'Subscriber', '1945', '1', '4.9260852e-06', '1']\n",
      "['806', '2018-11-20 17:56:30.6730', '2018-11-20 18:09:57.1060', '128', 'MacDougal St & Prince St', '40.727104', '-74.002968', '476', 'E 31 St & 3 Ave', '40.743942', '-73.97966', '24978', 'Subscriber', '1993', '1', '5.1276816e-06', '1']\n"
     ]
    }
   ],
   "source": [
    "import csv\n",
    "bike_csv = open('Public_bike system_tripdata_201811(3).csv')\n",
    "bike= csv.reader(bike_csv, delimiter=',')\n",
    "\n",
    "for row_num, row in enumerate(bike):\n",
    "        if row_num <= 10:\n",
    "            print (row)"
   ]
  },
  {
   "cell_type": "markdown",
   "metadata": {
    "colab_type": "text",
    "id": "Ht2TMkhkow6I"
   },
   "source": [
    "# Section 8 - Pandas\n",
    "\n",
    "\n",
    "In this section, you are required to use Pandas to load the `Public_bike system_tripdata_201811(3).csv` file and explore it.\n",
    "\n",
    "The `Public_bike system_tripdata_201811(3).csv` contains the data of a city's public bike sharing system for November 2018. The following items are inculded in the dataset:\n",
    "\n",
    "* Trip Duration (seconds)\n",
    "* Start Time and Date\n",
    "* Stop Time and Date\n",
    "* Start Station Name\n",
    "* End Station Name\n",
    "* Station ID\n",
    "* Station Lat/Long\n",
    "* Bike ID\n",
    "* User Type (Customer = 24-hour pass or 3-day pass user; Subscriber = Annual Member)\n",
    "* Gender (Zero=unknown; 1=male; 2=female)\n",
    "* Year of Birth\n",
    "\n",
    "\n",
    "### Q8.1: Loading data\n",
    "<br>\n",
    "\n",
    "Import the `Pandas` module as `pd`. <br>\n",
    "<br>\n",
    "Using one of Pandas functions, load `Public_bike system_tripdata_201811(3).csv` into a dataframe and assign it to a variable `df`."
   ]
  },
  {
   "cell_type": "code",
   "execution_count": 9,
   "metadata": {
    "colab": {},
    "colab_type": "code",
    "id": "Bf6KRMHcow6I",
    "scrolled": true
   },
   "outputs": [],
   "source": [
    "# Write your code here\n",
    "import pandas as pd\n",
    "df = pd.read_csv('Public_bike system_tripdata_201811(3).csv')"
   ]
  },
  {
   "cell_type": "markdown",
   "metadata": {
    "colab_type": "text",
    "id": "6vPzs8Sxow6L"
   },
   "source": [
    "### Q8.2: Displaying the first 10 lines\n",
    "Display the first 10 lines of your dataframe"
   ]
  },
  {
   "cell_type": "code",
   "execution_count": 10,
   "metadata": {
    "colab": {},
    "colab_type": "code",
    "id": "MNlSIjWEow6M",
    "outputId": "602af3ef-f059-4509-d488-6139815b3dae",
    "scrolled": true
   },
   "outputs": [
    {
     "name": "stdout",
     "output_type": "stream",
     "text": [
      "   tripduration                 starttime                  stoptime  \\\n",
      "0          1498  2018-11-09 08:50:39.1350  2018-11-09 09:15:37.7090   \n",
      "1          1004  2018-11-03 14:47:50.2070  2018-11-03 15:04:34.8700   \n",
      "2           242  2018-11-02 00:39:07.3540  2018-11-02 00:43:10.0260   \n",
      "3           673  2018-11-09 08:06:35.6140  2018-11-09 08:17:49.5970   \n",
      "4           381  2018-11-05 15:12:51.8650  2018-11-05 15:19:13.7560   \n",
      "5           818  2018-11-18 11:36:32.2060  2018-11-18 11:50:11.1740   \n",
      "6           484  2018-11-04 08:40:57.9820  2018-11-04 08:49:02.5170   \n",
      "7           873  2018-11-12 13:46:30.9890  2018-11-12 14:01:04.5500   \n",
      "8           751  2018-11-14 13:29:28.5370  2018-11-14 13:42:00.4930   \n",
      "9           806  2018-11-20 17:56:30.6730  2018-11-20 18:09:57.1060   \n",
      "\n",
      "   startstationid          startstationname  startstationlatitude  \\\n",
      "0           388.0          W 26 St & 10 Ave             40.749718   \n",
      "1           525.0          W 34 St & 11 Ave             40.755943   \n",
      "2          3169.0    Riverside Dr & W 82 St             40.787209   \n",
      "3           445.0        E 10 St & Avenue A             40.727409   \n",
      "4           466.0           W 25 St & 6 Ave             40.743954   \n",
      "5           438.0       St Marks Pl & 1 Ave             40.727791   \n",
      "6           236.0       St Marks Pl & 2 Ave             40.728420   \n",
      "7           247.0    Perry St & Bleecker St             40.735355   \n",
      "8           394.0         E 9 St & Avenue C             40.725212   \n",
      "9           128.0  MacDougal St & Prince St             40.727104   \n",
      "\n",
      "   startstationlongitude  endstationid            endstationname  \\\n",
      "0             -74.002953         327.0  Vesey Pl & River Terrace   \n",
      "1             -74.002113         530.0          11 Ave & W 59 St   \n",
      "2             -73.981277        3167.0   Amsterdam Ave & W 73 St   \n",
      "3             -73.981422         540.0   Lexington Ave & E 29 St   \n",
      "4             -73.991447        3255.0           8 Ave & W 31 St   \n",
      "5             -73.985649         128.0  MacDougal St & Prince St   \n",
      "6             -73.987137         285.0        Broadway & E 14 St   \n",
      "7             -74.004829         465.0        Broadway & W 41 St   \n",
      "8             -73.977684         285.0        Broadway & E 14 St   \n",
      "9             -74.002968         476.0           E 31 St & 3 Ave   \n",
      "\n",
      "   endstationlatitude  endstationlongitude  bikeid    usertype  birthyear  \\\n",
      "0           40.715340           -74.016586   31991  Subscriber       1992   \n",
      "1           40.771523           -73.990540   34396    Customer       1969   \n",
      "2           40.779667           -73.980934   15203  Subscriber       1966   \n",
      "3           40.743114           -73.982155   32173  Subscriber       1989   \n",
      "4           40.750584           -73.994682   34794  Subscriber       1985   \n",
      "5           40.727104           -74.002968   31791  Subscriber       1983   \n",
      "6           40.734547           -73.990738   29854    Customer       1969   \n",
      "7           40.755135           -73.986580   32471  Subscriber       1968   \n",
      "8           40.734547           -73.990738   33678  Subscriber       1945   \n",
      "9           40.743942           -73.979660   24978  Subscriber       1993   \n",
      "\n",
      "   gender        random  insample  \n",
      "0       1  7.227907e-08         1  \n",
      "1       0  1.183647e-06         1  \n",
      "2       1  2.024221e-06         1  \n",
      "3       2  2.418815e-06         1  \n",
      "4       1  3.485916e-06         1  \n",
      "5       2  3.494898e-06         1  \n",
      "6       0  3.777018e-06         1  \n",
      "7       1  4.340657e-06         1  \n",
      "8       1  4.926085e-06         1  \n",
      "9       1  5.127682e-06         1  \n"
     ]
    }
   ],
   "source": [
    "print (df.head(10))"
   ]
  },
  {
   "cell_type": "markdown",
   "metadata": {
    "colab_type": "text",
    "id": "7GnLdnLZow6T"
   },
   "source": [
    "### Q8.3: Dataframe Shape\n",
    "\n",
    "Display the shape of your dataframe"
   ]
  },
  {
   "cell_type": "code",
   "execution_count": 11,
   "metadata": {
    "colab": {},
    "colab_type": "code",
    "id": "OhYQ8nOPow6U",
    "scrolled": true
   },
   "outputs": [
    {
     "name": "stdout",
     "output_type": "stream",
     "text": [
      "(40378, 17)\n"
     ]
    }
   ],
   "source": [
    "print (df.shape)"
   ]
  },
  {
   "cell_type": "markdown",
   "metadata": {
    "colab_type": "text",
    "id": "yjn0Bvclow6X"
   },
   "source": [
    "### Q8.4: Column Names \n",
    "Print out the column names of the data frame"
   ]
  },
  {
   "cell_type": "code",
   "execution_count": 12,
   "metadata": {
    "colab": {},
    "colab_type": "code",
    "id": "ce0osx5Eow6Z",
    "outputId": "69ad6c31-4a26-4a33-f7e8-5809d23b2091",
    "scrolled": true
   },
   "outputs": [
    {
     "name": "stdout",
     "output_type": "stream",
     "text": [
      "Index(['tripduration', 'starttime', 'stoptime', 'startstationid',\n",
      "       'startstationname', 'startstationlatitude', 'startstationlongitude',\n",
      "       'endstationid', 'endstationname', 'endstationlatitude',\n",
      "       'endstationlongitude', 'bikeid', 'usertype', 'birthyear', 'gender',\n",
      "       'random', 'insample'],\n",
      "      dtype='object')\n"
     ]
    }
   ],
   "source": [
    "print (df.columns)"
   ]
  },
  {
   "cell_type": "markdown",
   "metadata": {},
   "source": [
    "### Q8.5: Transform date fromat\n",
    "\n",
    "Transform `starttime` and `stoptime` from string into datetime format. <br>\n",
    "You need to use the `to_datetime` function provided in pandas to complete this task."
   ]
  },
  {
   "cell_type": "code",
   "execution_count": 13,
   "metadata": {},
   "outputs": [],
   "source": [
    "# Write your code here\n",
    "df['starttime'] = pd.to_datetime(df['starttime'])\n",
    "df['stoptime'] = pd.to_datetime(df['stoptime'])"
   ]
  },
  {
   "cell_type": "markdown",
   "metadata": {},
   "source": [
    "### Q8.6: Extracting time elements and create new column\n",
    "\n",
    "Create new columns in `df`: `Month`, `Week`,`Day`, `Hour`. You can extract them from either `starttime` or `stoptime`."
   ]
  },
  {
   "cell_type": "code",
   "execution_count": 14,
   "metadata": {},
   "outputs": [],
   "source": [
    "# Write your code here\n",
    "df['Month'],df['Week'],df['Day'],df['Hour'] = df['starttime'].dt.month,df['starttime'].dt.week,df['starttime'].dt.day,df['starttime'].dt.hour\n"
   ]
  },
  {
   "cell_type": "markdown",
   "metadata": {
    "colab_type": "text",
    "id": "3x90HQRCow6c"
   },
   "source": [
    "### Q8.7: Extract multiple columns\n",
    "Print on the screen the newly created columns: `Month`, `Week`,`Day`, `Hour`."
   ]
  },
  {
   "cell_type": "code",
   "execution_count": 15,
   "metadata": {
    "colab": {},
    "colab_type": "code",
    "id": "BtTM-QoRow6d",
    "outputId": "17bdaf0a-efa6-4561-ec6f-855216f0b28b",
    "scrolled": true
   },
   "outputs": [
    {
     "name": "stdout",
     "output_type": "stream",
     "text": [
      "       Month  Week  Day  Hour\n",
      "0         11    45    9     8\n",
      "1         11    44    3    14\n",
      "2         11    44    2     0\n",
      "3         11    45    9     8\n",
      "4         11    45    5    15\n",
      "5         11    46   18    11\n",
      "6         11    44    4     8\n",
      "7         11    46   12    13\n",
      "8         11    46   14    13\n",
      "9         11    47   20    17\n",
      "10        11    48   26    13\n",
      "11        11    44    4     9\n",
      "12        11    46   17    12\n",
      "13        11    46   13    22\n",
      "14        11    44    2    17\n",
      "15        11    48   28    21\n",
      "16        11    44    4    20\n",
      "17        11    44    3    16\n",
      "18        11    46   17     9\n",
      "19        11    45    7    18\n",
      "20        11    44    4    16\n",
      "21        11    44    4    20\n",
      "22        11    46   16    13\n",
      "23        11    45    8    16\n",
      "24        11    45   10    17\n",
      "25        11    46   12    12\n",
      "26        11    46   15    15\n",
      "27        11    44    4    22\n",
      "28        11    46   14    13\n",
      "29        11    46   18     2\n",
      "...      ...   ...  ...   ...\n",
      "40348     11    46   18    13\n",
      "40349     11    46   17    17\n",
      "40350     11    47   19    10\n",
      "40351     11    48   26     9\n",
      "40352     11    47   19     7\n",
      "40353     11    45   11    10\n",
      "40354     11    44    4    12\n",
      "40355     11    45    8     9\n",
      "40356     11    47   25    14\n",
      "40357     11    45   11    12\n",
      "40358     11    45   10    12\n",
      "40359     11    45    8    18\n",
      "40360     11    45    9     6\n",
      "40361     11    44    4    12\n",
      "40362     11    48   30     9\n",
      "40363     11    48   27    17\n",
      "40364     11    45    8     4\n",
      "40365     11    44    3    17\n",
      "40366     11    45    8    20\n",
      "40367     11    47   21    11\n",
      "40368     11    48   29    13\n",
      "40369     11    46   12    16\n",
      "40370     11    45    6    17\n",
      "40371     11    46   18    22\n",
      "40372     11    44    4    21\n",
      "40373     11    48   27     7\n",
      "40374     11    46   14    17\n",
      "40375     11    44    2    18\n",
      "40376     11    45    8     5\n",
      "40377     11    46   18    16\n",
      "\n",
      "[40378 rows x 4 columns]\n"
     ]
    }
   ],
   "source": [
    "# Write your code here\n",
    "print(df[['Month', 'Week', 'Day', 'Hour']])"
   ]
  },
  {
   "cell_type": "markdown",
   "metadata": {
    "colab_type": "text",
    "id": "QQ7AGmhOow6i"
   },
   "source": [
    "### Q8.8: Data summary\n",
    "\n",
    "Print the number of bike usage in the first and last day of November."
   ]
  },
  {
   "cell_type": "code",
   "execution_count": 16,
   "metadata": {
    "colab": {},
    "colab_type": "code",
    "id": "8tLmHg-zow6j",
    "outputId": "173d1f2f-e0ac-46a6-c01c-e2a25c77d64c",
    "scrolled": true
   },
   "outputs": [
    {
     "name": "stdout",
     "output_type": "stream",
     "text": [
      "The public bikes were used for  2432  times in the first day of November\n",
      "The public bikes were used for  1465  times in the last day of November\n"
     ]
    }
   ],
   "source": [
    "Firstday = df[df.Day == 1]\n",
    "Lastday = df[df.Day == 30]\n",
    "print('The public bikes were used for ',len(Firstday),' times in the first day of November')\n",
    "print('The public bikes were used for ',len(Lastday),' times in the last day of November')"
   ]
  },
  {
   "cell_type": "markdown",
   "metadata": {
    "colab_type": "text",
    "id": "nQWA45znow6m"
   },
   "source": [
    "### Q8.9: Row filtering \n",
    "\n",
    "Extract the rows where the `tripduration` is larger than 10000 as `long_trip`"
   ]
  },
  {
   "cell_type": "code",
   "execution_count": 17,
   "metadata": {
    "colab": {},
    "colab_type": "code",
    "id": "sVJZtvNwow6o",
    "outputId": "5caa91f1-c823-4a67-b4f6-b2d67e1348c0",
    "scrolled": true
   },
   "outputs": [
    {
     "name": "stdout",
     "output_type": "stream",
     "text": [
      "       tripduration               starttime                stoptime  \\\n",
      "485           26518 2018-11-02 10:20:15.751 2018-11-02 17:42:14.381   \n",
      "1744          13881 2018-11-26 09:02:56.229 2018-11-26 12:54:17.651   \n",
      "1749          60888 2018-11-16 19:14:26.421 2018-11-17 12:09:15.057   \n",
      "1779          23510 2018-11-30 12:35:33.828 2018-11-30 19:07:24.378   \n",
      "3543         503902 2018-11-11 18:55:21.536 2018-11-17 14:53:44.103   \n",
      "4103          22265 2018-11-05 08:01:49.945 2018-11-05 14:12:54.969   \n",
      "4416          14662 2018-11-01 10:33:51.011 2018-11-01 14:38:13.864   \n",
      "5594          11893 2018-11-02 03:09:25.839 2018-11-02 06:27:39.535   \n",
      "5768          17902 2018-11-04 06:33:00.019 2018-11-04 11:31:22.538   \n",
      "5899          14965 2018-11-23 17:19:59.567 2018-11-23 21:29:24.869   \n",
      "5909          49404 2018-11-06 19:14:59.398 2018-11-07 08:58:23.491   \n",
      "5958          86878 2018-11-10 15:39:37.758 2018-11-11 15:47:35.770   \n",
      "6394          39339 2018-11-22 11:57:04.829 2018-11-22 22:52:44.499   \n",
      "6993          30348 2018-11-05 12:16:39.370 2018-11-05 20:42:27.879   \n",
      "7368          12555 2018-11-26 15:05:26.080 2018-11-26 18:34:42.022   \n",
      "8130          12360 2018-11-29 14:13:29.217 2018-11-29 17:39:29.352   \n",
      "8826          47246 2018-11-07 18:21:57.329 2018-11-08 07:29:23.885   \n",
      "9662          50337 2018-11-07 18:49:57.596 2018-11-08 08:48:54.647   \n",
      "10647         49743 2018-11-11 18:57:03.866 2018-11-12 08:46:07.069   \n",
      "10725        226426 2018-11-03 18:45:08.303 2018-11-06 08:38:54.742   \n",
      "10859         14016 2018-11-17 13:20:16.181 2018-11-17 17:13:52.851   \n",
      "11704         16436 2018-11-07 10:10:45.320 2018-11-07 14:44:41.321   \n",
      "12629         11521 2018-11-21 14:22:29.858 2018-11-21 17:34:30.947   \n",
      "14091         14220 2018-11-06 09:09:30.537 2018-11-06 13:06:31.459   \n",
      "14552         19584 2018-11-24 09:26:57.823 2018-11-24 14:53:22.195   \n",
      "14557         98244 2018-11-21 17:35:53.641 2018-11-22 20:53:18.517   \n",
      "14751         30170 2018-11-04 15:26:49.627 2018-11-04 23:49:39.932   \n",
      "15937        247992 2018-11-03 18:48:19.963 2018-11-06 14:41:32.595   \n",
      "20339        474949 2018-11-28 18:08:25.456 2018-12-04 06:04:15.337   \n",
      "20937         18568 2018-11-10 11:43:51.240 2018-11-10 16:53:19.961   \n",
      "...             ...                     ...                     ...   \n",
      "23211        147828 2018-11-12 20:50:06.731 2018-11-14 13:53:54.791   \n",
      "23261        148142 2018-11-03 00:48:07.012 2018-11-04 16:57:09.527   \n",
      "23301         15559 2018-11-03 08:43:40.653 2018-11-03 13:02:59.966   \n",
      "26292         11524 2018-11-01 11:40:55.461 2018-11-01 14:52:59.758   \n",
      "26343         56349 2018-11-02 19:42:25.328 2018-11-03 11:21:35.029   \n",
      "26438         12572 2018-11-07 11:19:53.678 2018-11-07 14:49:25.734   \n",
      "27521         12270 2018-11-18 10:11:14.635 2018-11-18 13:35:45.607   \n",
      "27593         39574 2018-11-20 13:27:36.139 2018-11-21 00:27:10.278   \n",
      "27689         12829 2018-11-21 21:25:11.450 2018-11-22 00:59:00.556   \n",
      "28079         54966 2018-11-11 00:39:08.037 2018-11-11 15:55:14.449   \n",
      "28975        187787 2018-11-15 07:19:42.419 2018-11-17 11:29:30.062   \n",
      "29550         10942 2018-11-04 16:27:38.164 2018-11-04 19:30:01.160   \n",
      "29683         43331 2018-11-08 08:22:10.268 2018-11-08 20:24:21.973   \n",
      "29828         56731 2018-11-29 19:47:36.250 2018-11-30 11:33:07.514   \n",
      "30866         11049 2018-11-29 14:04:01.895 2018-11-29 17:08:10.981   \n",
      "31260         99060 2018-11-15 07:10:47.158 2018-11-16 10:41:47.199   \n",
      "31706        401075 2018-11-28 23:56:12.966 2018-12-03 15:20:48.666   \n",
      "32235         34150 2018-11-03 15:46:54.599 2018-11-04 01:16:05.398   \n",
      "34320         29369 2018-11-11 13:42:55.415 2018-11-11 21:52:25.033   \n",
      "35359         10565 2018-11-29 18:35:36.610 2018-11-29 21:31:41.725   \n",
      "35772         13173 2018-11-02 13:46:25.390 2018-11-02 17:25:58.584   \n",
      "36038         44689 2018-11-28 19:49:19.676 2018-11-29 08:14:09.287   \n",
      "36164         12818 2018-11-03 14:02:59.631 2018-11-03 17:36:38.397   \n",
      "36888         25977 2018-11-03 02:40:56.150 2018-11-03 09:53:54.066   \n",
      "37213         11686 2018-11-01 11:33:31.121 2018-11-01 14:48:17.845   \n",
      "37673        862065 2018-11-05 22:25:31.415 2018-11-15 21:53:17.177   \n",
      "38723         11629 2018-11-17 11:02:25.464 2018-11-17 14:16:15.088   \n",
      "38942         32345 2018-11-29 08:37:52.800 2018-11-29 17:36:58.347   \n",
      "40022         86592 2018-11-04 11:54:34.676 2018-11-05 11:57:46.928   \n",
      "40326         10897 2018-11-18 19:00:30.664 2018-11-18 22:02:08.447   \n",
      "\n",
      "       startstationid                    startstationname  \\\n",
      "485             267.0                  Broadway & W 36 St   \n",
      "1744           3285.0             W 87 St & Amsterdam Ave   \n",
      "1749            486.0                  Broadway & W 29 St   \n",
      "1779            536.0                     1 Ave & E 30 St   \n",
      "3543            385.0                     E 55 St & 2 Ave   \n",
      "4103           3429.0              Hanson Pl & Ashland Pl   \n",
      "4416            313.0           Washington Ave & Park Ave   \n",
      "5594            349.0             Rivington St & Ridge St   \n",
      "5768            388.0                    W 26 St & 10 Ave   \n",
      "5899            239.0            Willoughby St & Fleet St   \n",
      "5909           3534.0  Frederick Douglass Blvd & W 117 St   \n",
      "5958            315.0            South St & Gouverneur Ln   \n",
      "6394            466.0                     W 25 St & 6 Ave   \n",
      "6993            285.0                  Broadway & E 14 St   \n",
      "7368            363.0                      West Thames St   \n",
      "8130           3409.0                Bergen St & Smith St   \n",
      "8826           3347.0           Van Brunt St & Wolcott St   \n",
      "9662            387.0             Centre St & Chambers St   \n",
      "10647          3571.0             Bedford Ave & Bergen St   \n",
      "10725           223.0                     W 13 St & 7 Ave   \n",
      "10859          2010.0                Grand St & Greene St   \n",
      "11704           545.0                     E 23 St & 1 Ave   \n",
      "12629          3646.0                      35 Ave & 10 St   \n",
      "14091           403.0                      E 2 St & 2 Ave   \n",
      "14552          3169.0              Riverside Dr & W 82 St   \n",
      "14557          3467.0          W Broadway & Spring Street   \n",
      "14751           481.0                S 3 St & Bedford Ave   \n",
      "15937          3604.0            Rogers Ave & Sterling St   \n",
      "20339           321.0       Cadman Plaza E & Red Cross Pl   \n",
      "20937          3538.0            W 110 St & Amsterdam Ave   \n",
      "...               ...                                 ...   \n",
      "23211           265.0            Stanton St & Chrystie St   \n",
      "23261           380.0                    W 4 St & 7 Ave S   \n",
      "23301           458.0                    11 Ave & W 27 St   \n",
      "26292           173.0                  Broadway & W 49 St   \n",
      "26343          3521.0                Lenox Ave & W 111 St   \n",
      "26438          2006.0              Central Park S & 6 Ave   \n",
      "27521          3427.0            Lafayette St & Jersey St   \n",
      "27593          3226.0         W 82 St & Central Park West   \n",
      "27689           492.0                     W 33 St & 7 Ave   \n",
      "28079           438.0                 St Marks Pl & 1 Ave   \n",
      "28975          3241.0            Monroe St & Tompkins Ave   \n",
      "29550          3063.0           Nostrand Ave & Myrtle Ave   \n",
      "29683          3392.0          Commerce St & Van Brunt St   \n",
      "29828           380.0                    W 4 St & 7 Ave S   \n",
      "30866          3143.0                     5 Ave & E 78 St   \n",
      "31260          3108.0             Nassau Ave & Russell St   \n",
      "31706          2023.0             E 55 St & Lexington Ave   \n",
      "32235           265.0            Stanton St & Chrystie St   \n",
      "34320           501.0                 FDR Drive & E 35 St   \n",
      "35359           297.0                     E 15 St & 3 Ave   \n",
      "35772           321.0       Cadman Plaza E & Red Cross Pl   \n",
      "36038          3163.0         Central Park West & W 68 St   \n",
      "36164           531.0              Forsyth St & Broome St   \n",
      "36888           302.0                   Avenue D & E 3 St   \n",
      "37213          3659.0                     W 17 St & 9 Ave   \n",
      "37673          3052.0              Lewis Ave & Madison St   \n",
      "38723          3693.0                  N 11 St & Kent Ave   \n",
      "38942           362.0                  Broadway & W 37 St   \n",
      "40022          3050.0             Putnam Ave & Throop Ave   \n",
      "40326           499.0                  Broadway & W 60 St   \n",
      "\n",
      "       startstationlatitude  startstationlongitude  endstationid  \\\n",
      "485               40.750977             -73.987656        3320.0   \n",
      "1744              40.788391             -73.974701        3139.0   \n",
      "1749              40.746201             -73.988556         297.0   \n",
      "1779              40.741444             -73.975357         517.0   \n",
      "3543              40.757973             -73.966034        3498.0   \n",
      "4103              40.685066             -73.977905        3440.0   \n",
      "4416              40.696102             -73.967514         313.0   \n",
      "5594              40.718502             -73.983299        3245.0   \n",
      "5768              40.749718             -74.002953        3472.0   \n",
      "5899              40.691967             -73.981300        3232.0   \n",
      "5909              40.805161             -73.954689        3629.0   \n",
      "5958              40.703552             -74.006699        3489.0   \n",
      "6394              40.743954             -73.991447        3255.0   \n",
      "6993              40.734547             -73.990738         243.0   \n",
      "7368              40.708347             -74.017136         427.0   \n",
      "8130              40.686745             -73.990631        3409.0   \n",
      "8826              40.677341             -74.012749        3409.0   \n",
      "9662              40.712734             -74.004608         368.0   \n",
      "10647             40.676369             -73.952919        3053.0   \n",
      "10725             40.737816             -73.999947         336.0   \n",
      "10859             40.721653             -74.002350        3686.0   \n",
      "11704             40.736504             -73.978096        3687.0   \n",
      "12629             40.763153             -73.939857        3666.0   \n",
      "14091             40.725029             -73.990700         268.0   \n",
      "14552             40.787209             -73.981277         355.0   \n",
      "14557             40.724945             -74.001656         314.0   \n",
      "14751             40.712605             -73.962646        3055.0   \n",
      "15937             40.663063             -73.953873        3245.0   \n",
      "20339             40.699917             -73.989716        3432.0   \n",
      "20937             40.802692             -73.962952        3531.0   \n",
      "...                     ...                    ...           ...   \n",
      "23211             40.722294             -73.991478         229.0   \n",
      "23261             40.734013             -74.002937         494.0   \n",
      "23301             40.751396             -74.005226         458.0   \n",
      "26292             40.760685             -73.984528         127.0   \n",
      "26343             40.798786             -73.952301        3508.0   \n",
      "26438             40.765911             -73.976341        2006.0   \n",
      "27521             40.724304             -73.996010         252.0   \n",
      "27593             40.782749             -73.971367        3355.0   \n",
      "27689             40.750198             -73.990929         349.0   \n",
      "28079             40.727791             -73.985649        2010.0   \n",
      "28975             40.686203             -73.944695        3486.0   \n",
      "29550             40.695271             -73.952377        3063.0   \n",
      "29683             40.681213             -74.008606        3392.0   \n",
      "29828             40.734013             -74.002937         498.0   \n",
      "30866             40.776321             -73.964272        3168.0   \n",
      "31260             40.725571             -73.944344        3083.0   \n",
      "31706             40.759682             -73.970314         476.0   \n",
      "32235             40.722294             -73.991478         331.0   \n",
      "34320             40.744221             -73.971214        3141.0   \n",
      "35359             40.734234             -73.986923         492.0   \n",
      "35772             40.699917             -73.989716        3300.0   \n",
      "36038             40.773407             -73.977829        3343.0   \n",
      "36164             40.718941             -73.992661         361.0   \n",
      "36888             40.720829             -73.977928         411.0   \n",
      "37213             40.742950             -74.004135         519.0   \n",
      "37673             40.686314             -73.935776        3245.0   \n",
      "38723             40.722481             -73.959221        3611.0   \n",
      "38942             40.751728             -73.987534        3255.0   \n",
      "40022             40.685154             -73.941109         289.0   \n",
      "40326             40.769154             -73.981918         458.0   \n",
      "\n",
      "                            endstationname  endstationlatitude  ...   bikeid  \\\n",
      "485           Central Park West & W 100 St           40.794067  ...    17650   \n",
      "1744                    E 72 St & Park Ave           40.771183  ...    30448   \n",
      "1749                       E 15 St & 3 Ave           40.734234  ...    26058   \n",
      "1779                 Pershing Square South           40.751579  ...    33433   \n",
      "3543               Pleasant Ave & E 120 St           40.797478  ...    34154   \n",
      "4103                  Fulton St & Adams St           40.692417  ...    17243   \n",
      "4416             Washington Ave & Park Ave           40.696102  ...    31441   \n",
      "5594                NYCBS DEPOT - DELANCEY           40.716446  ...    24923   \n",
      "5768                      W 15 St & 10 Ave           40.742752  ...    34357   \n",
      "5899                   Bond St & Fulton St           40.689621  ...    26387   \n",
      "5909   Adam Clayton Powell Blvd & W 126 St           40.809494  ...    35284   \n",
      "5958                Gold St & Frankfort St           40.710701  ...    20300   \n",
      "6394                       8 Ave & W 31 St           40.750584  ...    35231   \n",
      "6993               Fulton St & Rockwell Pl           40.688225  ...    25055   \n",
      "7368                   Bus Slip & State St           40.701908  ...    31386   \n",
      "8130                  Bergen St & Smith St           40.686745  ...    33762   \n",
      "8826                  Bergen St & Smith St           40.686745  ...    30191   \n",
      "9662                    Carmine St & 6 Ave           40.730385  ...    17210   \n",
      "10647            Marcy Ave & Lafayette Ave           40.690083  ...    33068   \n",
      "10725          Sullivan St & Washington Sq           40.730476  ...    31616   \n",
      "10859            Gansevoort St & Hudson St           40.739449  ...    14829   \n",
      "11704                      E 33 St & 1 Ave           40.743225  ...    15226   \n",
      "12629                       32 St & 30 Ave           40.766426  ...    32476   \n",
      "14091                Howard St & Centre St           40.719105  ...    19819   \n",
      "14552                Bayard St & Baxter St           40.716022  ...    27699   \n",
      "14557      Cadman Plaza West & Montague St           40.693829  ...    27446   \n",
      "14751            Greene Ave & Nostrand Ave           40.688335  ...    31419   \n",
      "15937               NYCBS DEPOT - DELANCEY           40.716446  ...    35032   \n",
      "20339                    NYCBS Depot - GOW           40.669060  ...    29984   \n",
      "20937   Frederick Douglass Blvd & W 129 St           40.812550  ...    26733   \n",
      "...                                    ...                 ...  ...      ...   \n",
      "23211                       Great Jones St           40.727436  ...    21473   \n",
      "23261                      W 26 St & 8 Ave           40.747349  ...    14591   \n",
      "23301                     11 Ave & W 27 St           40.751396  ...    20953   \n",
      "26292                Barrow St & Hudson St           40.731724  ...    17231   \n",
      "26343      St Nicholas Ave & Manhattan Ave           40.809727  ...    14778   \n",
      "26438               Central Park S & 6 Ave           40.765911  ...    21137   \n",
      "27521         MacDougal St & Washington Sq           40.732265  ...    15442   \n",
      "27593                E 66 St & Madison Ave           40.768009  ...    32388   \n",
      "27689              Rivington St & Ridge St           40.718502  ...    30473   \n",
      "28079                 Grand St & Greene St           40.721653  ...    25564   \n",
      "28975            Schermerhorn St & Bond St           40.688416  ...    34241   \n",
      "29550            Nostrand Ave & Myrtle Ave           40.695271  ...    31615   \n",
      "29683           Commerce St & Van Brunt St           40.681213  ...    31263   \n",
      "29828                   Broadway & W 32 St           40.748550  ...    34321   \n",
      "30866          Central Park West & W 85 St           40.784725  ...    15330   \n",
      "31260             Bushwick Ave & Powers St           40.712475  ...    34120   \n",
      "31706                      E 31 St & 3 Ave           40.743942  ...    26983   \n",
      "32235                  Pike St & Monroe St           40.711731  ...    20238   \n",
      "34320                      1 Ave & E 68 St           40.765007  ...    15342   \n",
      "35359                      W 33 St & 7 Ave           40.750198  ...    32699   \n",
      "35772            Prospect Park West & 8 St           40.665146  ...    34215   \n",
      "36038              W 107 St & Columbus Ave           40.799755  ...    26378   \n",
      "36164                 Allen St & Hester St           40.716057  ...    26608   \n",
      "36888                    E 6 St & Avenue D           40.722282  ...    27248   \n",
      "37213                Pershing Square North           40.751873  ...    21549   \n",
      "37673               NYCBS DEPOT - DELANCEY           40.716446  ...    33123   \n",
      "38723                  Vernon Blvd & 47 Rd           40.744907  ...    27864   \n",
      "38942                      8 Ave & W 31 St           40.750584  ...    18332   \n",
      "40022              Monroe St & Classon Ave           40.684566  ...    21095   \n",
      "40326                     11 Ave & W 27 St           40.751396  ...    18948   \n",
      "\n",
      "         usertype birthyear  gender    random  insample  Month  Week  Day  \\\n",
      "485    Subscriber      1973       1  0.000397         1     11    44    2   \n",
      "1744   Subscriber      1973       1  0.001389         1     11    48   26   \n",
      "1749   Subscriber      1984       1  0.001392         1     11    46   16   \n",
      "1779     Customer      1965       1  0.001413         1     11    48   30   \n",
      "3543   Subscriber      1969       1  0.002861         1     11    45   11   \n",
      "4103   Subscriber      1984       1  0.003321         1     11    45    5   \n",
      "4416   Subscriber      1957       1  0.003532         1     11    44    1   \n",
      "5594     Customer      1969       0  0.004452         1     11    44    2   \n",
      "5768   Subscriber      1982       2  0.004585         1     11    44    4   \n",
      "5899     Customer      1990       1  0.004686         1     11    47   23   \n",
      "5909     Customer      1988       2  0.004692         1     11    45    6   \n",
      "5958     Customer      1969       0  0.004733         1     11    45   10   \n",
      "6394   Subscriber      1978       1  0.005070         1     11    47   22   \n",
      "6993     Customer      1992       1  0.005547         1     11    45    5   \n",
      "7368   Subscriber      1983       1  0.005844         1     11    48   26   \n",
      "8130     Customer      1967       1  0.006477         1     11    48   29   \n",
      "8826     Customer      1969       0  0.006995         1     11    45    7   \n",
      "9662   Subscriber      1990       1  0.007632         1     11    45    7   \n",
      "10647  Subscriber      1989       1  0.008373         1     11    45   11   \n",
      "10725    Customer      1992       1  0.008436         1     11    44    3   \n",
      "10859    Customer      1994       2  0.008536         1     11    46   17   \n",
      "11704  Subscriber      1998       1  0.009170         1     11    45    7   \n",
      "12629    Customer      1984       1  0.009916         1     11    47   21   \n",
      "14091  Subscriber      1988       2  0.011067         1     11    45    6   \n",
      "14552  Subscriber      1986       1  0.011434         1     11    47   24   \n",
      "14557    Customer      1997       1  0.011437         1     11    47   21   \n",
      "14751    Customer      1969       0  0.011595         1     11    44    4   \n",
      "15937    Customer      1990       0  0.012546         1     11    44    3   \n",
      "20339  Subscriber      1971       1  0.015970         1     11    48   28   \n",
      "20937    Customer      1969       0  0.016431         1     11    45   10   \n",
      "...           ...       ...     ...       ...       ...    ...   ...  ...   \n",
      "23211  Subscriber      1995       1  0.018221         1     11    46   12   \n",
      "23261  Subscriber      1994       1  0.018264         1     11    44    3   \n",
      "23301    Customer      1973       1  0.018291         1     11    44    3   \n",
      "26292    Customer      1969       0  0.020691         1     11    44    1   \n",
      "26343  Subscriber      1964       2  0.020725         1     11    44    2   \n",
      "26438    Customer      1985       0  0.020810         1     11    45    7   \n",
      "27521    Customer      1969       0  0.021707         1     11    46   18   \n",
      "27593    Customer      1975       2  0.021757         1     11    47   20   \n",
      "27689    Customer      1989       1  0.021834         1     11    47   21   \n",
      "28079  Subscriber      1993       1  0.022156         1     11    45   11   \n",
      "28975    Customer      1969       0  0.022900         1     11    46   15   \n",
      "29550    Customer      1969       0  0.023369         1     11    44    4   \n",
      "29683  Subscriber      1988       1  0.023466         1     11    45    8   \n",
      "29828    Customer      1981       1  0.023591         1     11    48   29   \n",
      "30866    Customer      1969       0  0.024411         1     11    48   29   \n",
      "31260  Subscriber      1995       2  0.024741         1     11    46   15   \n",
      "31706  Subscriber      1975       1  0.025080         1     11    48   28   \n",
      "32235    Customer      1990       2  0.025481         1     11    44    3   \n",
      "34320    Customer      1969       0  0.027095         1     11    45   11   \n",
      "35359  Subscriber      1996       1  0.027914         1     11    48   29   \n",
      "35772    Customer      1969       0  0.028255         1     11    44    2   \n",
      "36038  Subscriber      1969       1  0.028452         1     11    48   28   \n",
      "36164    Customer      1969       0  0.028551         1     11    44    3   \n",
      "36888  Subscriber      1986       1  0.029110         1     11    44    3   \n",
      "37213    Customer      1969       0  0.029383         1     11    44    1   \n",
      "37673    Customer      1981       1  0.029767         1     11    45    5   \n",
      "38723    Customer      1969       0  0.030585         1     11    46   17   \n",
      "38942  Subscriber      1982       1  0.030749         1     11    48   29   \n",
      "40022  Subscriber      1989       2  0.031545         1     11    44    4   \n",
      "40326    Customer      1969       0  0.031793         1     11    46   18   \n",
      "\n",
      "       Hour  \n",
      "485      10  \n",
      "1744      9  \n",
      "1749     19  \n",
      "1779     12  \n",
      "3543     18  \n",
      "4103      8  \n",
      "4416     10  \n",
      "5594      3  \n",
      "5768      6  \n",
      "5899     17  \n",
      "5909     19  \n",
      "5958     15  \n",
      "6394     11  \n",
      "6993     12  \n",
      "7368     15  \n",
      "8130     14  \n",
      "8826     18  \n",
      "9662     18  \n",
      "10647    18  \n",
      "10725    18  \n",
      "10859    13  \n",
      "11704    10  \n",
      "12629    14  \n",
      "14091     9  \n",
      "14552     9  \n",
      "14557    17  \n",
      "14751    15  \n",
      "15937    18  \n",
      "20339    18  \n",
      "20937    11  \n",
      "...     ...  \n",
      "23211    20  \n",
      "23261     0  \n",
      "23301     8  \n",
      "26292    11  \n",
      "26343    19  \n",
      "26438    11  \n",
      "27521    10  \n",
      "27593    13  \n",
      "27689    21  \n",
      "28079     0  \n",
      "28975     7  \n",
      "29550    16  \n",
      "29683     8  \n",
      "29828    19  \n",
      "30866    14  \n",
      "31260     7  \n",
      "31706    23  \n",
      "32235    15  \n",
      "34320    13  \n",
      "35359    18  \n",
      "35772    13  \n",
      "36038    19  \n",
      "36164    14  \n",
      "36888     2  \n",
      "37213    11  \n",
      "37673    22  \n",
      "38723    11  \n",
      "38942     8  \n",
      "40022    11  \n",
      "40326    19  \n",
      "\n",
      "[61 rows x 21 columns]\n"
     ]
    }
   ],
   "source": [
    "long_trip = df[df.tripduration > 10000]\n",
    "print(long_trip)"
   ]
  },
  {
   "cell_type": "markdown",
   "metadata": {
    "colab_type": "text",
    "id": "qfNoNt13ow6P"
   },
   "source": [
    "### Q8.10:  Sort dataframe\n",
    "\n",
    "Select top 50 most popular stations (including both start station and end station)\n"
   ]
  },
  {
   "cell_type": "code",
   "execution_count": 19,
   "metadata": {
    "colab": {},
    "colab_type": "code",
    "id": "6zJz6xJaow6Q",
    "outputId": "64e5da85-8cdf-48d4-baa7-eb43a515a62b",
    "scrolled": true
   },
   "outputs": [
    {
     "name": "stdout",
     "output_type": "stream",
     "text": [
      "519.0     678.0\n",
      "435.0     576.0\n",
      "497.0     560.0\n",
      "402.0     533.0\n",
      "285.0     490.0\n",
      "490.0     482.0\n",
      "499.0     461.0\n",
      "3255.0    448.0\n",
      "477.0     422.0\n",
      "459.0     419.0\n",
      "491.0     415.0\n",
      "293.0     412.0\n",
      "445.0     401.0\n",
      "3660.0    400.0\n",
      "468.0     399.0\n",
      "229.0     396.0\n",
      "359.0     394.0\n",
      "382.0     382.0\n",
      "379.0     379.0\n",
      "3435.0    374.0\n",
      "3164.0    373.0\n",
      "3641.0    367.0\n",
      "281.0     363.0\n",
      "523.0     358.0\n",
      "151.0     358.0\n",
      "3263.0    353.0\n",
      "505.0     351.0\n",
      "368.0     350.0\n",
      "358.0     340.0\n",
      "3711.0    334.0\n",
      "3687.0    331.0\n",
      "426.0     330.0\n",
      "517.0     328.0\n",
      "465.0     327.0\n",
      "486.0     315.0\n",
      "127.0     312.0\n",
      "442.0     308.0\n",
      "168.0     304.0\n",
      "446.0     298.0\n",
      "173.0     297.0\n",
      "509.0     295.0\n",
      "3427.0    295.0\n",
      "466.0     294.0\n",
      "504.0     293.0\n",
      "483.0     292.0\n",
      "507.0     291.0\n",
      "514.0     286.0\n",
      "545.0     284.0\n",
      "479.0     281.0\n",
      "472.0     277.0\n",
      "dtype: float64\n"
     ]
    }
   ],
   "source": [
    "# Filter stations\n",
    "top_50_stations = (df['startstationid'].value_counts() + df['endstationid'].value_counts()).sort_values(ascending=False).head(50)\n",
    "print (top_50_stations)\n"
   ]
  },
  {
   "cell_type": "markdown",
   "metadata": {
    "colab_type": "text",
    "id": "C3mMxwoSow6v"
   },
   "source": [
    "### Q8.11:  Identify business problem\n",
    "For a bike share system, one of the issue is to make sure that there are bikes available at stations where people want to pick them up. \n",
    "\n",
    "If station $A$ starts the day with lots of bikes, but people take them out to other stations and nobody returns any bikes to $A$, then it will run out of bikes, and that's the thing we don't want. \n",
    "\n",
    "Your task is to think about the transition of bikes between stations and locate which stations would be more likely to suffer bike __outage__ or __overage__:\n",
    "\n",
    "* locate top 5 stations which are most likely to suffer daily bike outage (if any).\n",
    "\n",
    "* locate top 5 stations which are most likely to have daily bike overage (if any). "
   ]
  },
  {
   "cell_type": "code",
   "execution_count": 20,
   "metadata": {
    "colab": {},
    "colab_type": "code",
    "id": "CyzuhYZiow6x",
    "outputId": "7969308b-80bc-4749-f29c-2b15345f3344",
    "scrolled": true
   },
   "outputs": [
    {
     "name": "stdout",
     "output_type": "stream",
     "text": [
      "3159.0   -37.0\n",
      "358.0    -36.0\n",
      "517.0    -30.0\n",
      "307.0    -29.0\n",
      "403.0    -29.0\n",
      "dtype: float64\n"
     ]
    }
   ],
   "source": [
    "# Find outage stations and list your result\n",
    "top_5_outrage = (df['endstationid'].value_counts() - df['startstationid'].value_counts()).sort_values().head(5)\n",
    "print(top_5_outrage)"
   ]
  },
  {
   "cell_type": "code",
   "execution_count": 21,
   "metadata": {},
   "outputs": [
    {
     "name": "stdout",
     "output_type": "stream",
     "text": [
      "324.0    58.0\n",
      "491.0    39.0\n",
      "466.0    36.0\n",
      "497.0    34.0\n",
      "503.0    33.0\n",
      "dtype: float64\n"
     ]
    }
   ],
   "source": [
    "# Find overage stations and list your result\n",
    "top_5_overrage = (df['endstationid'].value_counts() - df['startstationid'].value_counts()).sort_values(ascending=False).head(5)\n",
    "print(top_5_overrage)"
   ]
  },
  {
   "cell_type": "markdown",
   "metadata": {},
   "source": [
    "## THIS IS THE END OF THE EXERCISE"
   ]
  },
  {
   "cell_type": "markdown",
   "metadata": {},
   "source": [
    "--------------"
   ]
  }
 ],
 "metadata": {
  "celltoolbar": "Raw Cell Format",
  "colab": {
   "collapsed_sections": [
    "U__QxFrRow5l"
   ],
   "name": "FBA - Python Test (2018).ipynb",
   "provenance": [],
   "toc_visible": true,
   "version": "0.3.2"
  },
  "kernelspec": {
   "display_name": "Python 3",
   "language": "python",
   "name": "python3"
  },
  "language_info": {
   "codemirror_mode": {
    "name": "ipython",
    "version": 3
   },
   "file_extension": ".py",
   "mimetype": "text/x-python",
   "name": "python",
   "nbconvert_exporter": "python",
   "pygments_lexer": "ipython3",
   "version": "3.7.1"
  }
 },
 "nbformat": 4,
 "nbformat_minor": 1
}
