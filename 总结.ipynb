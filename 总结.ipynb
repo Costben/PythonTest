{
 "cells": [
  {
   "cell_type": "code",
   "execution_count": 91,
   "id": "a66bc7e7",
   "metadata": {},
   "outputs": [
    {
     "name": "stdout",
     "output_type": "stream",
     "text": [
      "[[1 2 3]\n",
      " [4 5 6]\n",
      " [7 8 9]]\n"
     ]
    }
   ],
   "source": [
    "numpy"
   ]
  },
  {
   "cell_type": "code",
   "execution_count": null,
   "id": "d37615f4",
   "metadata": {},
   "outputs": [],
   "source": [
    "import numpy as np\n",
    "# 创建矩阵\n",
    "a = np.array([[1,2,3],[4,5,6],[7,8,9]]) \n",
    "type(a) #<class 'numpy.ndarray'>\n",
    "\n",
    "np.append(a,[[1,2],[1,2]],axis=0) # 添加整行元素\n",
    "np.append(a,[[1,2],[1,2]],axis=1) # 添加整列\n",
    "\n",
    "# 矩阵结构\n",
    "a.shape #(3, 3)\n",
    "\n",
    "a.T # T（变换矩阵）\n",
    "len(a) # 3\n",
    "np.mean(a) # 5.0\n",
    "np.var(a) # 方差\n",
    "np.std(a),axis=0 # 标准差 # axis：0每行，1每列\n",
    "np.sqrt(a) # 开平方\n",
    "np.min(a) #1\n",
    "np.max(a) #9\n",
    "np.dot(a,b) # dot(形状不同的矩阵相乘)\n",
    "\n",
    "# 转换形式为float\n",
    "print(a.astype(\"float\"))\n",
    "\n",
    "# 1 2行 3个\n",
    "b = np.ones((2,3))\n",
    "# 0 2*2矩阵\n",
    "c = np.zeros((2,2))\n",
    "# 用7形成2*2矩阵\n",
    "d= np.full((2,2),7)\n",
    "# 对角线1\n",
    "f = np.eye(3)\n",
    "\n",
    "# 切片\n",
    "# [行的切片,列的切片]\n",
    "# [行的起始位置:行的结束位置:步长,列的起始位置:列的结束位置:步长]\n",
    "a[:,1]\n",
    "a[1,:]\n",
    "a[1:3:1,1:3:1]\n",
    "\n",
    "#随机数生成3*4矩阵\n",
    "g = np.random.randint(1,100,size=[3,4])\n",
    "\n",
    "# 创建形状相同矩阵\n",
    "y = np.empty_like(a)\n",
    "\n",
    "# 布尔值 或用｜，和用＆\n",
    "bool_idx = (a<2) & (a>4)\n"
   ]
  },
  {
   "cell_type": "code",
   "execution_count": 115,
   "id": "bf227df0",
   "metadata": {},
   "outputs": [
    {
     "data": {
      "text/plain": [
       "k1    v1\n",
       "k2    v2\n",
       "k3    v3\n",
       "dtype: object"
      ]
     },
     "execution_count": 115,
     "metadata": {},
     "output_type": "execute_result"
    }
   ],
   "source": [
    "pandas Series"
   ]
  },
  {
   "cell_type": "code",
   "execution_count": 111,
   "id": "4328f891",
   "metadata": {},
   "outputs": [],
   "source": [
    "import pandas as pd\n",
    "\n",
    "data = pd.read_csv(\"文件名\") # 读写文件\n",
    "data.head(5) # 显示前五行\n",
    "df.tail(5) # 显示后五行\n",
    "df.describe() # 显示7个特征\n",
    "\n",
    "# Series行名index和values\n",
    "s1 = pd.Series([1,2,3]) # values\n",
    "s2 = pd.Series({'k1':'v1','k2':'v2','k3':'v3'}) \n",
    "s3 = pd.Series(['a','b','c','d'],index=['10','20','30','40'])\n",
    "\n",
    "s2.T # 转换\n",
    "s2.index # 查看行名\n",
    "s2.values # 查看数据"
   ]
  },
  {
   "cell_type": "code",
   "execution_count": 114,
   "id": "4dba6e36",
   "metadata": {},
   "outputs": [
    {
     "data": {
      "text/html": [
       "<div>\n",
       "<style scoped>\n",
       "    .dataframe tbody tr th:only-of-type {\n",
       "        vertical-align: middle;\n",
       "    }\n",
       "\n",
       "    .dataframe tbody tr th {\n",
       "        vertical-align: top;\n",
       "    }\n",
       "\n",
       "    .dataframe thead th {\n",
       "        text-align: right;\n",
       "    }\n",
       "</style>\n",
       "<table border=\"1\" class=\"dataframe\">\n",
       "  <thead>\n",
       "    <tr style=\"text-align: right;\">\n",
       "      <th></th>\n",
       "      <th>name</th>\n",
       "      <th>age</th>\n",
       "      <th>gender</th>\n",
       "    </tr>\n",
       "  </thead>\n",
       "  <tbody>\n",
       "    <tr>\n",
       "      <th>0</th>\n",
       "      <td>张三</td>\n",
       "      <td>20</td>\n",
       "      <td>男</td>\n",
       "    </tr>\n",
       "    <tr>\n",
       "      <th>1</th>\n",
       "      <td>李四</td>\n",
       "      <td>21</td>\n",
       "      <td>女</td>\n",
       "    </tr>\n",
       "    <tr>\n",
       "      <th>2</th>\n",
       "      <td>王二</td>\n",
       "      <td>22</td>\n",
       "      <td>男</td>\n",
       "    </tr>\n",
       "  </tbody>\n",
       "</table>\n",
       "</div>"
      ],
      "text/plain": [
       "  name  age gender\n",
       "0   张三   20      男\n",
       "1   李四   21      女\n",
       "2   王二   22      男"
      ]
     },
     "execution_count": 114,
     "metadata": {},
     "output_type": "execute_result"
    }
   ],
   "source": [
    "pandas DataFrame"
   ]
  },
  {
   "cell_type": "code",
   "execution_count": 94,
   "id": "e59b116a",
   "metadata": {},
   "outputs": [],
   "source": [
    "# DataFrame  传入一个字典\n",
    "df = pd.DataFrame({\"name\":[\"张三\",\"李四\",\"王二\"],\"age\":[20,21,22],\"gender\":[\"男\",\"女\",\"男\"]})\n",
    "df.index # 查看行名\n",
    "df.columns # 查看列名\n",
    "df.values # 查看数据\n",
    "df[['name','age']] #查看固定列\n",
    "df['列索引名']['行索引名'] #查看固定列固定行\n",
    "df.reset_index('Loan_ID') #重置索引\n",
    "\n",
    "# 截取iloc[row_index, column_index]\n",
    "df.iloc[1] #第1行，全部列 \n",
    "df.iloc[:,1:2] #全部行，第一列\n",
    "df.iloc[[1,2,3],[0,2]] #取123行，02列\n",
    "\n",
    "#筛选\n",
    "df[df.A > 0] # A列中比0大的\n",
    "df[df['E'].isin(['two','four'])] # E列中为two和four的\n",
    "\n",
    "#替换值\n",
    "df2.replace({'a':{'Y':'Yes','N':'No'}}) #将a列的Y替换为Yes，N替换为No\n",
    "\n",
    "# 插入新列\n",
    "df['a'] = [1,2,3]  # 插入值为[1,2,3]的a列\n",
    "df['d'] = df['a'] + df['age'] #插入d列，值为a和age之和\n",
    "\n",
    "# 用numpy 来构造一个 DataFrame\n",
    "df = pd.DataFrame(np.random.randn(5,5)（随机5*5矩阵）,index =np.arange(5),columns=list('abcde'))\n",
    "df = pd.DataFrame(np.random.randint(1,100,size=[5,5]),index =np.arange(5),columns=list('abcde'))\n",
    "\n",
    "# 排序 默认升序\n",
    "df.sort_values(by = ['a','b'],ascending =False)# 规定按照降序排序\n",
    "# 以列(行)为基准\n",
    "df.sort_index(axis=0(axis=1),ascending = False)\n",
    "              \n",
    "#NaN值\n",
    "df.isnull() #查看缺失值，返回布尔值\n",
    "df.isnull().any() #返回列名\n",
    "df.isnull().sum() #查缺失个数\n",
    "df.dropna() #删除缺失\n",
    "print(d.dropna(axis=0)) # axis：0列，1行\n",
    "df.fillna(df.mean( ))# 用平均值填充NaN\n",
    "df.median( ) # 中位数\n",
    "df.mode() # 众数\n",
    "df.value_counts( ) #算出现个数\n",
    "\n",
    "# 保存\n",
    "df.to_csv"
   ]
  },
  {
   "cell_type": "code",
   "execution_count": null,
   "id": "9f0ac250",
   "metadata": {},
   "outputs": [],
   "source": []
  }
 ],
 "metadata": {
  "kernelspec": {
   "display_name": "Python 3 (ipykernel)",
   "language": "python",
   "name": "python3"
  },
  "language_info": {
   "codemirror_mode": {
    "name": "ipython",
    "version": 3
   },
   "file_extension": ".py",
   "mimetype": "text/x-python",
   "name": "python",
   "nbconvert_exporter": "python",
   "pygments_lexer": "ipython3",
   "version": "3.11.5"
  }
 },
 "nbformat": 4,
 "nbformat_minor": 5
}
